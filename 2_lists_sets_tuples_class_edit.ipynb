{
  "cells": [
    {
      "cell_type": "markdown",
      "metadata": {
        "id": "evJ2TrGx-IJn"
      },
      "source": [
        "# Lists\n",
        "\n",
        "As we are to become Data Scientists, we are going to need objects that can store multiple elements. In Python, the list is one of the most useful of these. You can create a list with `[]`, and separate each element with a comma:"
      ]
    },
    {
      "cell_type": "code",
      "execution_count": null,
      "metadata": {
        "id": "2WTRWUWU-IJu"
      },
      "outputs": [],
      "source": [
        "# https://www.w3schools.com/python/python_lists.asp\n",
        "\n",
        "weekdays = [\"Monday\", \"Tuesday\", \"Wednesday\", \"Thursday\", \"Friday\"]"
      ]
    },
    {
      "cell_type": "markdown",
      "metadata": {
        "id": "PD2FdgHZ-IJv"
      },
      "source": [
        "A list can also contain numbers:"
      ]
    },
    {
      "cell_type": "code",
      "execution_count": null,
      "metadata": {
        "id": "T8jYjrlB-IJw"
      },
      "outputs": [],
      "source": [
        "leap_years = [2000, 2004, 2008, 2012, 2016, 2020]"
      ]
    },
    {
      "cell_type": "markdown",
      "metadata": {
        "id": "ln8aKeZc-IJw"
      },
      "source": [
        "You can create a list out of something else with `list()`:"
      ]
    },
    {
      "cell_type": "code",
      "execution_count": null,
      "metadata": {
        "id": "M3ynuQNH-IJw",
        "outputId": "9d74cb40-c8f9-4355-85c9-a28ebc0bf105",
        "colab": {
          "base_uri": "https://localhost:8080/"
        }
      },
      "outputs": [
        {
          "output_type": "execute_result",
          "data": {
            "text/plain": [
              "['W', 'B', 'S', 'C', 'S']"
            ]
          },
          "metadata": {},
          "execution_count": 3
        }
      ],
      "source": [
        "# https://www.w3schools.com/python/ref_func_list.asp\n",
        "\n",
        "list(\"WBSCS\")"
      ]
    },
    {
      "cell_type": "markdown",
      "metadata": {
        "id": "H5yWiS0X-IJx"
      },
      "source": [
        "You can extract single or multiple values from a list by especifying their index inside of square brackets:"
      ]
    },
    {
      "cell_type": "code",
      "execution_count": null,
      "metadata": {
        "id": "86cEoKzp-IJx",
        "outputId": "877551ab-3e54-4656-a342-5a166aa4957e",
        "colab": {
          "base_uri": "https://localhost:8080/",
          "height": 35
        }
      },
      "outputs": [
        {
          "output_type": "execute_result",
          "data": {
            "text/plain": [
              "'Monday'"
            ],
            "application/vnd.google.colaboratory.intrinsic+json": {
              "type": "string"
            }
          },
          "metadata": {},
          "execution_count": 4
        }
      ],
      "source": [
        "weekdays[0]"
      ]
    },
    {
      "cell_type": "code",
      "execution_count": null,
      "metadata": {
        "id": "bt9Xhvg9-IJy",
        "outputId": "01e2fb80-ac33-4b5e-f570-25af46ec254b",
        "colab": {
          "base_uri": "https://localhost:8080/"
        }
      },
      "outputs": [
        {
          "output_type": "execute_result",
          "data": {
            "text/plain": [
              "2020"
            ]
          },
          "metadata": {},
          "execution_count": 5
        }
      ],
      "source": [
        "leap_years[-1]"
      ]
    },
    {
      "cell_type": "code",
      "execution_count": null,
      "metadata": {
        "id": "W_Hcp3_C-IJy",
        "outputId": "53a4ae8d-153b-4164-a3c6-df328bd34cbc",
        "colab": {
          "base_uri": "https://localhost:8080/"
        }
      },
      "outputs": [
        {
          "output_type": "execute_result",
          "data": {
            "text/plain": [
              "['Monday', 'Tuesday', 'Wednesday']"
            ]
          },
          "metadata": {},
          "execution_count": 6
        }
      ],
      "source": [
        "weekdays[0:3]"
      ]
    },
    {
      "cell_type": "markdown",
      "metadata": {
        "id": "ngqN-AnY-IJy"
      },
      "source": [
        "One of the most useful functions we will use in combination with lists is `append()`: it just adds an element at the end of the list:"
      ]
    },
    {
      "cell_type": "code",
      "execution_count": null,
      "metadata": {
        "id": "BYfc6SML-IJz",
        "outputId": "11e3c5fb-cb81-48c1-9acc-1a0941b03ea5",
        "colab": {
          "base_uri": "https://localhost:8080/"
        }
      },
      "outputs": [
        {
          "output_type": "stream",
          "name": "stdout",
          "text": [
            "[2000, 2004, 2008, 2012, 2016, 2020, 2024]\n"
          ]
        }
      ],
      "source": [
        "# https://www.w3schools.com/python/ref_list_append.asp\n",
        "\n",
        "leap_years.append(2024)\n",
        "print(leap_years)"
      ]
    },
    {
      "cell_type": "markdown",
      "metadata": {
        "id": "Mb2QbYFE-IJz"
      },
      "source": [
        "This is possible because lists, unlike strings or numbers, are mutable: you can change them without having to define them again."
      ]
    },
    {
      "cell_type": "markdown",
      "metadata": {
        "id": "Pbow42kU-IJz"
      },
      "source": [
        "The `insert()` function does the same, but at any specified position:"
      ]
    },
    {
      "cell_type": "code",
      "execution_count": null,
      "metadata": {
        "id": "LlX6vM1a-IJz",
        "outputId": "1bf83c5b-18ff-4630-c21a-8330740a46db",
        "colab": {
          "base_uri": "https://localhost:8080/"
        }
      },
      "outputs": [
        {
          "output_type": "stream",
          "name": "stdout",
          "text": [
            "[1996, 2000, 2004, 2008, 2012, 2016, 2020, 2024]\n"
          ]
        }
      ],
      "source": [
        "# https://www.w3schools.com/python/ref_list_insert.asp\n",
        "\n",
        "leap_years.insert(0, 1996)\n",
        "print(leap_years)"
      ]
    },
    {
      "cell_type": "code",
      "execution_count": null,
      "metadata": {
        "id": "CzHEG0Tu-IJ0",
        "outputId": "9a5d21f6-461c-4813-8101-953e85f5c9b4",
        "colab": {
          "base_uri": "https://localhost:8080/"
        }
      },
      "outputs": [
        {
          "output_type": "stream",
          "name": "stdout",
          "text": [
            "[1996, 2000, 'Happy new millenia', 2004, 2008, 2012, 2016, 2020, 2024]\n"
          ]
        }
      ],
      "source": [
        "leap_years.insert(2, \"Happy new millenia\")\n",
        "print(leap_years)"
      ]
    },
    {
      "cell_type": "markdown",
      "metadata": {
        "id": "UAvH2X8K-IJ0"
      },
      "source": [
        "As you can see, lists support elements from different data types. They're heterogeneous.\n",
        "\n",
        "There are some other built-in methods that you can use to manipulate lists. Check them out here (https://www.w3schools.com/python/python_lists_methods.asp) and complete the following exercises:"
      ]
    },
    {
      "cell_type": "code",
      "execution_count": null,
      "metadata": {
        "id": "ll49LIKx-IJ0"
      },
      "outputs": [],
      "source": [
        "# some lists to work with\n",
        "car_brands = [\"BMW\", \"Volkswagen\", \"Mercedes\", \"Ford\", \"Apple\", \"Toyota\", \n",
        "              \"Tesla\", \"Kia\", \"Porsche\", \"Mazda\", \"Honda\", \"Jaguar\", \n",
        "              \"Mitsubishi\", \"Audi\", \"Bentley\", \"Bugatti\", \"Chrisler\"]\n",
        "\n",
        "fibonacci = [0, 1, 1, 2, 3, 5, 8, 13, 21, 34, 53, 89, 144]\n",
        "\n",
        "characters = [[\"Harry\", \"Hermoine\", \"Ron\"], \n",
        "              [\"Daenerys Targaryen\", \"Jon Snow\", \"Tyrion Lannister\", \n",
        "               \"Cercei Lannister\", \"Arya Stark\", \"Sansa Stark\"],\n",
        "              [\"Aragorn\", \"Gandalf\", \"Frodo\", \"Legolas\", \"Gollum\", \"Gimli\"],\n",
        "              [\"Walter White\", \"Jesse Pinkman\", \"Gus Fring\"]\n",
        "             ]\n",
        "\n",
        "sex_and_the_city = [\"Carrie\", \"Samantha\", \"Charlotte\", \"Miranda\"]\n",
        "\n",
        "numbers = [[1, 51, 59, 2, 95, 25, 28, 67, 14, 63, 84, 33, 56, 31, 54, 97, 77, \n",
        "            98, 46, 84, 6, 66, 86, 77, 69, 19, 77, 7, 76, 19, 59, 77, 28, 34, \n",
        "            94, 4, 45, 95, 41, 66, 5, 38, 35, 57, 84, 38, 94, 65, 45, 80, 83, \n",
        "            22, 12, 100, 52, 55, 31, 69, 29, 67, 4, 39, 87, 49, 81, 82, 96, 4, \n",
        "            85, 62, 90, 72, 70, 26, 29, 63, 48, 94, 58, 9, 49, 79, 33, 63, 41, \n",
        "            13, 90, 37, 31, 3, 11, 54, 56, 72, 91, 97, 2, 83, 82, 6]]"
      ]
    },
    {
      "cell_type": "markdown",
      "metadata": {
        "id": "xlx6IauS-IJ0"
      },
      "source": [
        "###### **Exercise 1:**\n",
        "find out the position of \"Bugatti\" in the `car_brands` list (whether it's the 3rd element, the 5th...)."
      ]
    },
    {
      "cell_type": "code",
      "execution_count": null,
      "metadata": {
        "tags": [],
        "id": "JSOkYULM-IJ1"
      },
      "outputs": [],
      "source": [
        "# your code here"
      ]
    },
    {
      "cell_type": "code",
      "source": [
        "car_brands.index(\"Bugatti\")"
      ],
      "metadata": {
        "id": "QSZMV-TVrsH0",
        "colab": {
          "base_uri": "https://localhost:8080/"
        },
        "outputId": "dd7eb02b-296b-4be0-e68a-f52d4632590a"
      },
      "execution_count": null,
      "outputs": [
        {
          "output_type": "execute_result",
          "data": {
            "text/plain": [
              "15"
            ]
          },
          "metadata": {},
          "execution_count": 12
        }
      ]
    },
    {
      "cell_type": "markdown",
      "metadata": {
        "id": "uY0v5oU6-IJ1"
      },
      "source": [
        "###### **Exercise 2:**\n",
        "remove \"Apple\" from the `car_brands` list."
      ]
    },
    {
      "cell_type": "code",
      "execution_count": null,
      "metadata": {
        "id": "7P6_IQoQ-IJ1"
      },
      "outputs": [],
      "source": [
        "# your code here\n",
        "car_brands.remove(\"Apple\")"
      ]
    },
    {
      "cell_type": "code",
      "source": [
        "car_brands"
      ],
      "metadata": {
        "colab": {
          "base_uri": "https://localhost:8080/"
        },
        "id": "x43Qt7s1PH8f",
        "outputId": "320c207e-f87f-4c1d-b1af-c239ad3c3a79"
      },
      "execution_count": null,
      "outputs": [
        {
          "output_type": "execute_result",
          "data": {
            "text/plain": [
              "['BMW',\n",
              " 'Volkswagen',\n",
              " 'Mercedes',\n",
              " 'Ford',\n",
              " 'Toyota',\n",
              " 'Tesla',\n",
              " 'Kia',\n",
              " 'Porsche',\n",
              " 'Mazda',\n",
              " 'Honda',\n",
              " 'Jaguar',\n",
              " 'Mitsubishi',\n",
              " 'Audi',\n",
              " 'Bentley',\n",
              " 'Bugatti',\n",
              " 'Chrisler']"
            ]
          },
          "metadata": {},
          "execution_count": 14
        }
      ]
    },
    {
      "cell_type": "markdown",
      "metadata": {
        "id": "FBddT04e-IJ1"
      },
      "source": [
        "###### **Exercise 3:**\n",
        "order alphabetically the `car_brands` list."
      ]
    },
    {
      "cell_type": "code",
      "execution_count": null,
      "metadata": {
        "id": "mz9fI6tl-IJ2",
        "colab": {
          "base_uri": "https://localhost:8080/"
        },
        "outputId": "05f9ed21-7a9f-4848-de20-42b9f0d97609"
      },
      "outputs": [
        {
          "output_type": "execute_result",
          "data": {
            "text/plain": [
              "['Audi',\n",
              " 'BMW',\n",
              " 'Bentley',\n",
              " 'Bugatti',\n",
              " 'Chrisler',\n",
              " 'Ford',\n",
              " 'Honda',\n",
              " 'Jaguar',\n",
              " 'Kia',\n",
              " 'Mazda',\n",
              " 'Mercedes',\n",
              " 'Mitsubishi',\n",
              " 'Porsche',\n",
              " 'Tesla',\n",
              " 'Toyota',\n",
              " 'Volkswagen']"
            ]
          },
          "metadata": {},
          "execution_count": 15
        }
      ],
      "source": [
        "# your code here\n",
        "car_brands.sort()\n",
        "car_brands"
      ]
    },
    {
      "cell_type": "code",
      "source": [
        "sorted(car_brands)"
      ],
      "metadata": {
        "colab": {
          "base_uri": "https://localhost:8080/"
        },
        "id": "pMq9YzybPrDN",
        "outputId": "7793b524-df9c-4592-fc3b-35e35b9348cc"
      },
      "execution_count": null,
      "outputs": [
        {
          "output_type": "execute_result",
          "data": {
            "text/plain": [
              "['Audi',\n",
              " 'BMW',\n",
              " 'Bentley',\n",
              " 'Bugatti',\n",
              " 'Chrisler',\n",
              " 'Ford',\n",
              " 'Honda',\n",
              " 'Jaguar',\n",
              " 'Kia',\n",
              " 'Mazda',\n",
              " 'Mercedes',\n",
              " 'Mitsubishi',\n",
              " 'Porsche',\n",
              " 'Tesla',\n",
              " 'Toyota',\n",
              " 'Volkswagen']"
            ]
          },
          "metadata": {},
          "execution_count": 16
        }
      ]
    },
    {
      "cell_type": "markdown",
      "metadata": {
        "id": "i9kwIGR9-IJ2"
      },
      "source": [
        "###### **Exercise 4:**\n",
        "there's a mistake in the list with fibonacci sequence, fix it."
      ]
    },
    {
      "cell_type": "code",
      "execution_count": null,
      "metadata": {
        "id": "W8ZJ10Ui-IJ2",
        "colab": {
          "base_uri": "https://localhost:8080/"
        },
        "outputId": "0f0e5a83-1a7e-43d4-f1c4-792774bc850c"
      },
      "outputs": [
        {
          "output_type": "stream",
          "name": "stdout",
          "text": [
            "[0, 1, 1, 2, 3, 5, 8, 13, 21, 34, 55, 89, 144]\n"
          ]
        }
      ],
      "source": [
        "# your code here\n",
        "# fibonacci = [0, 1, 1, 2, 3, 5, 8, 13, 21, 34, 53, 89, 144]\n",
        "fibonacci[-3]= fibonacci[-4]+fibonacci[-5]\n",
        "print(fibonacci)"
      ]
    },
    {
      "cell_type": "code",
      "source": [
        "fibonacci.pop(-3)\n",
        "fibonacci.insert(-2, 55)\n",
        "print(fibonacci)"
      ],
      "metadata": {
        "colab": {
          "base_uri": "https://localhost:8080/"
        },
        "id": "FDw35Q56QF6P",
        "outputId": "2d5e3651-c72a-4489-9f92-087460513797"
      },
      "execution_count": null,
      "outputs": [
        {
          "output_type": "stream",
          "name": "stdout",
          "text": [
            "[0, 1, 1, 2, 3, 5, 8, 13, 21, 34, 55, 89, 144]\n"
          ]
        }
      ]
    },
    {
      "cell_type": "markdown",
      "metadata": {
        "id": "TNiW1faP-IJ2"
      },
      "source": [
        "###### **Exercise 5:**\n",
        "order the `fibonacci` list descendingly."
      ]
    },
    {
      "cell_type": "code",
      "execution_count": null,
      "metadata": {
        "id": "9WihLuby-IJ2",
        "colab": {
          "base_uri": "https://localhost:8080/"
        },
        "outputId": "d35e703d-3ac8-4aa0-c81e-37469381be34"
      },
      "outputs": [
        {
          "output_type": "execute_result",
          "data": {
            "text/plain": [
              "[144, 89, 55, 34, 21, 13, 8, 5, 3, 2, 1, 1, 0]"
            ]
          },
          "metadata": {},
          "execution_count": 19
        }
      ],
      "source": [
        "# your code here\n",
        "sorted(fibonacci, reverse=True)"
      ]
    },
    {
      "cell_type": "code",
      "source": [
        "fibonacci.reverse()\n",
        "print(fibonacci)"
      ],
      "metadata": {
        "colab": {
          "base_uri": "https://localhost:8080/"
        },
        "id": "oShp2Ce8QT5I",
        "outputId": "8d4b849c-2d54-4c8c-ecde-9b9747ecb63b"
      },
      "execution_count": null,
      "outputs": [
        {
          "output_type": "stream",
          "name": "stdout",
          "text": [
            "[144, 89, 55, 34, 21, 13, 8, 5, 3, 2, 1, 1, 0]\n"
          ]
        }
      ]
    },
    {
      "cell_type": "code",
      "source": [
        "fibonacci.sort(reverse=True)\n",
        "fibonacci"
      ],
      "metadata": {
        "colab": {
          "base_uri": "https://localhost:8080/"
        },
        "id": "1EIrEG_iQWEk",
        "outputId": "e1eb4d6c-911b-40d0-aaee-a2aefefbc474"
      },
      "execution_count": null,
      "outputs": [
        {
          "output_type": "execute_result",
          "data": {
            "text/plain": [
              "[144, 89, 55, 34, 21, 13, 8, 5, 3, 2, 1, 1, 0]"
            ]
          },
          "metadata": {},
          "execution_count": 21
        }
      ]
    },
    {
      "cell_type": "markdown",
      "metadata": {
        "id": "pn8eWBXx-IJ2"
      },
      "source": [
        "###### **Exercise 6:**\n",
        "add \"Hagrid\" and \"Dumbledore\" to the first list inside the `characters` list."
      ]
    },
    {
      "cell_type": "code",
      "execution_count": null,
      "metadata": {
        "id": "gICkANM8-IJ2"
      },
      "outputs": [],
      "source": [
        "# your code here\n",
        "characters[0].append(\"Hagrid\")\n",
        "characters[0].append(\"Dumbledore\")"
      ]
    },
    {
      "cell_type": "code",
      "source": [
        "characters[0].extend(['Hargrid','Dumbledore'])\n",
        "print(characters[0])"
      ],
      "metadata": {
        "colab": {
          "base_uri": "https://localhost:8080/"
        },
        "id": "QoLQyHelSfjp",
        "outputId": "a964b55c-b6aa-43a0-8c7a-43253560ff48"
      },
      "execution_count": null,
      "outputs": [
        {
          "output_type": "stream",
          "name": "stdout",
          "text": [
            "['Harry', 'Hermoine', 'Ron', 'Hagrid', 'Dumbledore', 'Hargrid', 'Dumbledore']\n"
          ]
        }
      ]
    },
    {
      "cell_type": "code",
      "source": [
        "new_charachters = ['Hargrid','Dumbledore']\n",
        "characters[0].extend(new_charachters)\n",
        "print(characters[0])"
      ],
      "metadata": {
        "colab": {
          "base_uri": "https://localhost:8080/"
        },
        "id": "IJECcn2sS04t",
        "outputId": "7f681b2e-32a2-4b00-8e5d-3817a8b56e22"
      },
      "execution_count": null,
      "outputs": [
        {
          "output_type": "stream",
          "name": "stdout",
          "text": [
            "['Harry', 'Hermoine', 'Ron', 'Hagrid', 'Dumbledore', 'Hargrid', 'Dumbledore', 'Hargrid', 'Dumbledore']\n"
          ]
        }
      ]
    },
    {
      "cell_type": "code",
      "source": [
        "print(characters)"
      ],
      "metadata": {
        "colab": {
          "base_uri": "https://localhost:8080/"
        },
        "id": "lvkY-wsQQej0",
        "outputId": "9ef1f10a-952d-4803-cdbb-b37caacb4ffe"
      },
      "execution_count": null,
      "outputs": [
        {
          "output_type": "stream",
          "name": "stdout",
          "text": [
            "[['Harry', 'Hermoine', 'Ron', 'Hagrid', 'Dumbledore', 'Hargrid', 'Dumbledore', 'Hargrid', 'Dumbledore'], ['Daenerys Targaryen', 'Jon Snow', 'Tyrion Lannister', 'Cercei Lannister', 'Arya Stark', 'Sansa Stark'], ['Aragorn', 'Gandalf', 'Frodo', 'Legolas', 'Gollum', 'Gimli'], ['Walter White', 'Jesse Pinkman', 'Gus Fring']]\n"
          ]
        }
      ]
    },
    {
      "cell_type": "markdown",
      "metadata": {
        "id": "CTKCzkdF-IJ3"
      },
      "source": [
        "###### **Exercise 7:**\n",
        "add the `sex_and_the_city` list in the `characters` list."
      ]
    },
    {
      "cell_type": "code",
      "execution_count": null,
      "metadata": {
        "id": "iFO2iyJJ-IJ3",
        "colab": {
          "base_uri": "https://localhost:8080/"
        },
        "outputId": "9101e857-4048-4f3f-ebb7-c66c159c69cd"
      },
      "outputs": [
        {
          "output_type": "stream",
          "name": "stdout",
          "text": [
            "[['Harry', 'Hermoine', 'Ron', 'Hagrid', 'Dumbledore', 'Hargrid', 'Dumbledore', 'Hargrid', 'Dumbledore'], ['Daenerys Targaryen', 'Jon Snow', 'Tyrion Lannister', 'Cercei Lannister', 'Arya Stark', 'Sansa Stark'], ['Aragorn', 'Gandalf', 'Frodo', 'Legolas', 'Gollum', 'Gimli'], ['Walter White', 'Jesse Pinkman', 'Gus Fring'], ['Carrie', 'Samantha', 'Charlotte', 'Miranda']]\n"
          ]
        }
      ],
      "source": [
        "# your code here\n",
        "characters.append(sex_and_the_city)\n",
        "print(characters)"
      ]
    },
    {
      "cell_type": "code",
      "source": [
        "characters.extend(sex_and_the_city)\n",
        "print(characters)"
      ],
      "metadata": {
        "colab": {
          "base_uri": "https://localhost:8080/"
        },
        "id": "msxF8_yzQy6C",
        "outputId": "a26cbebb-d1c8-40fb-a834-2ffc7be32b08"
      },
      "execution_count": null,
      "outputs": [
        {
          "output_type": "stream",
          "name": "stdout",
          "text": [
            "[['Harry', 'Hermoine', 'Ron', 'Hagrid', 'Dumbledore', 'Hargrid', 'Dumbledore', 'Hargrid', 'Dumbledore'], ['Daenerys Targaryen', 'Jon Snow', 'Tyrion Lannister', 'Cercei Lannister', 'Arya Stark', 'Sansa Stark'], ['Aragorn', 'Gandalf', 'Frodo', 'Legolas', 'Gollum', 'Gimli'], ['Walter White', 'Jesse Pinkman', 'Gus Fring'], ['Carrie', 'Samantha', 'Charlotte', 'Miranda'], 'Carrie', 'Samantha', 'Charlotte', 'Miranda']\n"
          ]
        }
      ]
    },
    {
      "cell_type": "markdown",
      "metadata": {
        "id": "pPTFwOyf-IJ3"
      },
      "source": [
        "###### **Exercise 8:**\n",
        "remove all elements from the `sex_and_the_city` list."
      ]
    },
    {
      "cell_type": "code",
      "execution_count": null,
      "metadata": {
        "id": "fqxP26tM-IJ3",
        "colab": {
          "base_uri": "https://localhost:8080/"
        },
        "outputId": "1415e128-26a7-41fa-9f9c-4d2ff3b2df9e"
      },
      "outputs": [
        {
          "output_type": "execute_result",
          "data": {
            "text/plain": [
              "[]"
            ]
          },
          "metadata": {},
          "execution_count": 28
        }
      ],
      "source": [
        "# your code here\n",
        "sex_and_the_city.clear()\n",
        "sex_and_the_city"
      ]
    },
    {
      "cell_type": "markdown",
      "metadata": {
        "id": "xMDuxfVV-IJ3"
      },
      "source": [
        "###### **Exercise 9:**\n",
        "sum all elements in the `numbers` list."
      ]
    },
    {
      "cell_type": "code",
      "execution_count": null,
      "metadata": {
        "id": "hjxZKVTE-IJ3",
        "colab": {
          "base_uri": "https://localhost:8080/"
        },
        "outputId": "0d8e757d-03a7-40bb-f2c6-e9c52bb82e4d"
      },
      "outputs": [
        {
          "output_type": "execute_result",
          "data": {
            "text/plain": [
              "5312"
            ]
          },
          "metadata": {},
          "execution_count": 29
        }
      ],
      "source": [
        "# your code here\n",
        "sum(numbers[0])"
      ]
    },
    {
      "cell_type": "code",
      "source": [
        "# sum = 0\n",
        "# for element in numbers:\n",
        "#     for number in element:\n",
        "#         sum += number\n",
        "# sum"
      ],
      "metadata": {
        "id": "B03P-Iw2TQPJ"
      },
      "execution_count": null,
      "outputs": []
    },
    {
      "cell_type": "code",
      "source": [
        "for i in numbers:\n",
        "  sum(i)\n",
        "  print(sum(i))"
      ],
      "metadata": {
        "colab": {
          "base_uri": "https://localhost:8080/"
        },
        "id": "OuOrsbTsTjhF",
        "outputId": "edf2c0f6-0332-4c30-a4ad-d463a2fdae04"
      },
      "execution_count": null,
      "outputs": [
        {
          "output_type": "stream",
          "name": "stdout",
          "text": [
            "5312\n"
          ]
        }
      ]
    },
    {
      "cell_type": "markdown",
      "metadata": {
        "id": "NaXyaWbl-IJ3"
      },
      "source": [
        "###### **Exercise 10:**\n",
        "find out how many times the number `77` appears in the `numbers` list."
      ]
    },
    {
      "cell_type": "code",
      "execution_count": null,
      "metadata": {
        "id": "fot_ZUxV-IJ3",
        "colab": {
          "base_uri": "https://localhost:8080/"
        },
        "outputId": "211aff26-7fd8-4325-c9d7-87d314388126"
      },
      "outputs": [
        {
          "output_type": "stream",
          "name": "stdout",
          "text": [
            "occurrence of number 77:  4\n"
          ]
        }
      ],
      "source": [
        "# your code here\n",
        "print(\"occurrence of number 77: \",numbers[0].count(77))"
      ]
    },
    {
      "cell_type": "code",
      "source": [
        "numbers[0].count(77)"
      ],
      "metadata": {
        "colab": {
          "base_uri": "https://localhost:8080/"
        },
        "id": "5RUs78e1VKV_",
        "outputId": "9dd25232-f53e-4482-f49f-6a4203bb1e7a"
      },
      "execution_count": null,
      "outputs": [
        {
          "output_type": "execute_result",
          "data": {
            "text/plain": [
              "4"
            ]
          },
          "metadata": {},
          "execution_count": 37
        }
      ]
    },
    {
      "cell_type": "markdown",
      "source": [
        "# Tuples and Sets\n",
        "\n",
        "**Tuples** are almost exactly like lists, the only difference is that they're unmutable. You'll see what that means in a second. They are defined by regular parentheses `()` instead of square brackets `[]`:"
      ],
      "metadata": {
        "id": "Yv3AieQ5W54V"
      }
    },
    {
      "cell_type": "code",
      "source": [
        "my_tuple = (\"a\", \"b\", \"c\", \"d\")\n",
        "print(my_tuple)"
      ],
      "metadata": {
        "colab": {
          "base_uri": "https://localhost:8080/"
        },
        "id": "90Yca7rWKEN9",
        "outputId": "7fe107f5-a2b2-4f37-bc0d-1a3da1c10f85"
      },
      "execution_count": null,
      "outputs": [
        {
          "output_type": "stream",
          "name": "stdout",
          "text": [
            "('a', 'b', 'c', 'd')\n"
          ]
        }
      ]
    },
    {
      "cell_type": "markdown",
      "source": [
        "Tuples are ordered. You can select items inside of a tuple by indexing with `[]`, just like lists:"
      ],
      "metadata": {
        "id": "HF6rQ5ZfKjoW"
      }
    },
    {
      "cell_type": "code",
      "source": [
        "my_tuple[2]"
      ],
      "metadata": {
        "colab": {
          "base_uri": "https://localhost:8080/",
          "height": 35
        },
        "id": "ywI8Ls0zKHfm",
        "outputId": "08dfd5b4-4ee1-4ef2-f63a-8462c458f902"
      },
      "execution_count": null,
      "outputs": [
        {
          "output_type": "execute_result",
          "data": {
            "text/plain": [
              "'c'"
            ],
            "application/vnd.google.colaboratory.intrinsic+json": {
              "type": "string"
            }
          },
          "metadata": {},
          "execution_count": 39
        }
      ]
    },
    {
      "cell_type": "markdown",
      "source": [
        "But you can not update the value of an element inside of a tuple. Trying to do so will result in a `TypeError`:\n",
        "\n"
      ],
      "metadata": {
        "id": "Ygt4oqOzK5xq"
      }
    },
    {
      "cell_type": "code",
      "source": [
        "my_tuple[2] = \"e\""
      ],
      "metadata": {
        "colab": {
          "base_uri": "https://localhost:8080/",
          "height": 165
        },
        "id": "Xx0D8XzWKhMl",
        "outputId": "61d18607-5718-4c03-8145-476bd6b30a0f"
      },
      "execution_count": null,
      "outputs": [
        {
          "output_type": "error",
          "ename": "TypeError",
          "evalue": "ignored",
          "traceback": [
            "\u001b[0;31m---------------------------------------------------------------------------\u001b[0m",
            "\u001b[0;31mTypeError\u001b[0m                                 Traceback (most recent call last)",
            "\u001b[0;32m<ipython-input-41-e34fd2f38e8a>\u001b[0m in \u001b[0;36m<module>\u001b[0;34m\u001b[0m\n\u001b[0;32m----> 1\u001b[0;31m \u001b[0mmy_tuple\u001b[0m\u001b[0;34m[\u001b[0m\u001b[0;36m2\u001b[0m\u001b[0;34m]\u001b[0m \u001b[0;34m=\u001b[0m \u001b[0;34m\"e\"\u001b[0m\u001b[0;34m\u001b[0m\u001b[0;34m\u001b[0m\u001b[0m\n\u001b[0m",
            "\u001b[0;31mTypeError\u001b[0m: 'tuple' object does not support item assignment"
          ]
        }
      ]
    },
    {
      "cell_type": "code",
      "source": [
        "print(my_tuple[0])"
      ],
      "metadata": {
        "colab": {
          "base_uri": "https://localhost:8080/"
        },
        "id": "4vohqgwmdyOA",
        "outputId": "d66a46fd-9541-4670-89eb-184a07c91777"
      },
      "execution_count": null,
      "outputs": [
        {
          "output_type": "stream",
          "name": "stdout",
          "text": [
            "a\n"
          ]
        }
      ]
    },
    {
      "cell_type": "markdown",
      "source": [
        "**Sets** are collections of items, just like lists and tuples, but they have the following properties:\n",
        "\n",
        "* They're not ordered.\n",
        "* They're unchangeable.\n",
        "* They cannot contain duplicate items."
      ],
      "metadata": {
        "id": "PqltEjSlLU_X"
      }
    },
    {
      "cell_type": "code",
      "source": [
        "my_set = {1, 2, 3, 4}"
      ],
      "metadata": {
        "id": "d0krvDFxKfNd"
      },
      "execution_count": null,
      "outputs": []
    },
    {
      "cell_type": "markdown",
      "source": [
        "If you try to include a duplicate into a set, it will simply not get stored:"
      ],
      "metadata": {
        "id": "etD845CPMSs_"
      }
    },
    {
      "cell_type": "code",
      "source": [
        "my_fibonacci_set = {1, 1, 2, 3, 5}\n",
        "print(my_fibonacci_set)"
      ],
      "metadata": {
        "colab": {
          "base_uri": "https://localhost:8080/"
        },
        "id": "AqB52ehOMQwW",
        "outputId": "afa9d7f4-7ad6-4818-db67-ba4b8411b9ba"
      },
      "execution_count": null,
      "outputs": [
        {
          "output_type": "stream",
          "name": "stdout",
          "text": [
            "{1, 2, 3, 5}\n"
          ]
        }
      ]
    },
    {
      "cell_type": "markdown",
      "source": [
        "This characteristic makes them useful to extract unique values from other python collections. You can transform another collection into a set using the `set()` function:"
      ],
      "metadata": {
        "id": "5YxifWyWMrZB"
      }
    },
    {
      "cell_type": "code",
      "source": [
        "# https://www.w3schools.com/python/ref_func_set.asp\n",
        "\n",
        "price_list = [3.99, 2.5, 9.99, 1, 4.95, \n",
        "              3, 2.5, 6, 8, 1, 9.99, 4, \n",
        "              11.25, 14, 3.99, 4, 6, 1]\n",
        "unique_prices = set(price_list)\n",
        "print(unique_prices)"
      ],
      "metadata": {
        "colab": {
          "base_uri": "https://localhost:8080/"
        },
        "id": "GncBABY0Mmdl",
        "outputId": "b4a6741f-4d7c-493d-cf78-ba28b3cc976e"
      },
      "execution_count": null,
      "outputs": [
        {
          "output_type": "stream",
          "name": "stdout",
          "text": [
            "{1, 2.5, 3.99, 4.95, 3, 6, 4, 8, 9.99, 11.25, 14}\n"
          ]
        }
      ]
    },
    {
      "cell_type": "code",
      "source": [
        "print(\n",
        "    \"There are\", len(price_list), \"prices listed, but only\",\n",
        "    len(unique_prices), \"unique price values.\"\n",
        "    )"
      ],
      "metadata": {
        "colab": {
          "base_uri": "https://localhost:8080/"
        },
        "id": "Y4JYpJ0GNMJ8",
        "outputId": "db918653-4f2a-4f11-81d7-5339d298b4ae"
      },
      "execution_count": null,
      "outputs": [
        {
          "output_type": "stream",
          "name": "stdout",
          "text": [
            "There are 18 prices listed, but only 11 unique price values.\n"
          ]
        }
      ]
    },
    {
      "cell_type": "markdown",
      "source": [
        "###### **Exercise 11:**\n",
        "create a tuple with 10 elements and store it in a variable named `first_tuple`."
      ],
      "metadata": {
        "id": "yJUZXN9iqkfk"
      }
    },
    {
      "cell_type": "code",
      "source": [
        "# your code here\n",
        "first_tuple = (\"these\", \"are\", 10, \"elements\", \"to\", \"show\", \"that\", \"tuples\", \"are\", \"working\")\n",
        "print(first_tuple)"
      ],
      "metadata": {
        "id": "yhx7opXvN9rf",
        "colab": {
          "base_uri": "https://localhost:8080/"
        },
        "outputId": "69324822-5515-4a7d-d172-6b5addf05029"
      },
      "execution_count": null,
      "outputs": [
        {
          "output_type": "stream",
          "name": "stdout",
          "text": [
            "('these', 'are', 10, 'elements', 'to', 'show', 'that', 'tuples', 'are', 'working')\n"
          ]
        }
      ]
    },
    {
      "cell_type": "markdown",
      "source": [
        "###### **Exercise 12:**\n",
        "using `[]`, select only the first 6 elements of the tuple you created and store them into a new variable named `second_tuple`."
      ],
      "metadata": {
        "id": "SMnCg1RuqvS6"
      }
    },
    {
      "cell_type": "code",
      "source": [
        "# your code here\n",
        "second_tuple = first_tuple[:6]\n",
        "print(second_tuple)"
      ],
      "metadata": {
        "id": "ZP7hNknrPF4w",
        "colab": {
          "base_uri": "https://localhost:8080/"
        },
        "outputId": "3364c612-72b8-4226-b963-8d59ba34c302"
      },
      "execution_count": null,
      "outputs": [
        {
          "output_type": "stream",
          "name": "stdout",
          "text": [
            "('these', 'are', 10, 'elements', 'to', 'show')\n"
          ]
        }
      ]
    },
    {
      "cell_type": "code",
      "source": [
        "second_tuple = first_tuple[0:6]\n",
        "second_tuple"
      ],
      "metadata": {
        "colab": {
          "base_uri": "https://localhost:8080/"
        },
        "id": "4haAhyJYWRxZ",
        "outputId": "71ea2b82-ddb5-4ebd-b318-c8724e70da44"
      },
      "execution_count": null,
      "outputs": [
        {
          "output_type": "execute_result",
          "data": {
            "text/plain": [
              "('these', 'are', 10, 'elements', 'to', 'show')"
            ]
          },
          "metadata": {},
          "execution_count": 49
        }
      ]
    },
    {
      "cell_type": "markdown",
      "source": [
        "###### **Exercise 13:**\n",
        "convert the `second_tuple` into a set and store it in a variable called `first_set`."
      ],
      "metadata": {
        "id": "65yfj8Y7q35T"
      }
    },
    {
      "cell_type": "code",
      "source": [
        "# your code here\n",
        "first_set = set(second_tuple)\n",
        "print(first_set)"
      ],
      "metadata": {
        "id": "1lzpXTtUPJ-z",
        "colab": {
          "base_uri": "https://localhost:8080/"
        },
        "outputId": "8d90f134-8519-4c19-ca49-169a00dfae95"
      },
      "execution_count": null,
      "outputs": [
        {
          "output_type": "stream",
          "name": "stdout",
          "text": [
            "{'these', 10, 'elements', 'show', 'to', 'are'}\n"
          ]
        }
      ]
    },
    {
      "cell_type": "code",
      "source": [
        "first_set = {second_tuple}\n",
        "print(first_set)"
      ],
      "metadata": {
        "colab": {
          "base_uri": "https://localhost:8080/"
        },
        "id": "VtcNpCzLW-Qv",
        "outputId": "0d0f3063-7f22-4389-822a-5ff69ec92324"
      },
      "execution_count": null,
      "outputs": [
        {
          "output_type": "stream",
          "name": "stdout",
          "text": [
            "{('these', 'are', 10, 'elements', 'to', 'show')}\n"
          ]
        }
      ]
    },
    {
      "cell_type": "code",
      "source": [
        "type(first_set)"
      ],
      "metadata": {
        "colab": {
          "base_uri": "https://localhost:8080/"
        },
        "id": "-EgOPuypXDhO",
        "outputId": "38a7437e-8d2b-42fd-cb9d-a84bb5fa0d9c"
      },
      "execution_count": null,
      "outputs": [
        {
          "output_type": "execute_result",
          "data": {
            "text/plain": [
              "set"
            ]
          },
          "metadata": {},
          "execution_count": 56
        }
      ]
    },
    {
      "cell_type": "markdown",
      "source": [
        "###### **Exercise 14:**\n",
        "can you select the first element of the `first_set`?"
      ],
      "metadata": {
        "id": "XoYk14mEq92Z"
      }
    },
    {
      "cell_type": "code",
      "source": [
        "# your code here\n",
        "list(first_set)[0]"
      ],
      "metadata": {
        "id": "7pqnQriaPQUq",
        "colab": {
          "base_uri": "https://localhost:8080/",
          "height": 35
        },
        "outputId": "4961ecb4-0405-4821-aef3-1cd8dc31224e"
      },
      "execution_count": null,
      "outputs": [
        {
          "output_type": "execute_result",
          "data": {
            "text/plain": [
              "'these'"
            ],
            "application/vnd.google.colaboratory.intrinsic+json": {
              "type": "string"
            }
          },
          "metadata": {},
          "execution_count": 59
        }
      ]
    },
    {
      "cell_type": "code",
      "source": [
        "iterator = iter(first_set)\n",
        "item1 = next(iterator, None)\n",
        "print(item1)"
      ],
      "metadata": {
        "colab": {
          "base_uri": "https://localhost:8080/"
        },
        "id": "hV8EbIERXX0n",
        "outputId": "5e9b65dd-c628-4b36-d53b-22047a4be5d8"
      },
      "execution_count": null,
      "outputs": [
        {
          "output_type": "stream",
          "name": "stdout",
          "text": [
            "these\n"
          ]
        }
      ]
    },
    {
      "cell_type": "markdown",
      "source": [
        "###### **Exercise 15:** \n",
        "Below, you have a set with healthy ingredients and another one with vegan ingredients. Using [set methods you will find here](https://www.w3schools.com/python/python_ref_set.asp), print out a set with ingredients that are both healthy and vegan."
      ],
      "metadata": {
        "id": "Alx_Dh-xPgSQ"
      }
    },
    {
      "cell_type": "code",
      "source": [
        "healthy_food = {\"apple\", \"salmon\", \"avocado\", \"seafood\", \"olive oil\", \"spinach\", \"yogurt\"}\n",
        "vegan_food = {\"cookies\", \"apple\", \"avocado\", \"candy\", \"olive oil\", \"fake chiken\", \"spinach\"}\n",
        "\n",
        "# your code here"
      ],
      "metadata": {
        "id": "yOFgsQ5aPSN7",
        "colab": {
          "base_uri": "https://localhost:8080/"
        },
        "outputId": "9adf86c6-949e-4caa-9239-ecba234879fb"
      },
      "execution_count": null,
      "outputs": [
        {
          "output_type": "stream",
          "name": "stdout",
          "text": [
            "{'yogurt', 'salmon', 'seafood', 'candy', 'cookies', 'fake chiken'}\n"
          ]
        }
      ]
    },
    {
      "cell_type": "code",
      "source": [
        "vegan_healthy = healthy_food.intersection(vegan_food)\n",
        "print(vegan_healthy)"
      ],
      "metadata": {
        "colab": {
          "base_uri": "https://localhost:8080/"
        },
        "id": "qh6H9Js-Xk2O",
        "outputId": "9c8c2c4e-f2c3-4262-ce82-f56906dbdfb3"
      },
      "execution_count": null,
      "outputs": [
        {
          "output_type": "stream",
          "name": "stdout",
          "text": [
            "{'avocado', 'olive oil', 'spinach', 'apple'}\n"
          ]
        }
      ]
    },
    {
      "cell_type": "code",
      "source": [],
      "metadata": {
        "id": "ESW3ZPV4Xsj4"
      },
      "execution_count": null,
      "outputs": []
    }
  ],
  "metadata": {
    "kernelspec": {
      "display_name": "Python 3",
      "language": "python",
      "name": "python3"
    },
    "language_info": {
      "codemirror_mode": {
        "name": "ipython",
        "version": 3
      },
      "file_extension": ".py",
      "mimetype": "text/x-python",
      "name": "python",
      "nbconvert_exporter": "python",
      "pygments_lexer": "ipython3",
      "version": "3.8.8"
    },
    "colab": {
      "provenance": []
    }
  },
  "nbformat": 4,
  "nbformat_minor": 0
}