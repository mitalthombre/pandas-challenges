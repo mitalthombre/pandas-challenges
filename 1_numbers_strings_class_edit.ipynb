{
  "cells": [
    {
      "cell_type": "markdown",
      "metadata": {
        "id": "GG8cSDex9jqw"
      },
      "source": [
        "# Numbers and Strings\n",
        "\n",
        "In Python, like any other programming language and life in general, we _do things_ with _stuff_. Most of this course will focus on the things we do and how to do them. But today we will talk about the stuff.\n",
        "\n",
        "Almost everything in Python is an object. We will deal with numbers, text, lists, dictionaries... all of these things are different types of Python objects.\n",
        "\n",
        "The type of an object defines what can you do with it, and how will it behave. For example, you can add two numbers together, and as long as they are a type of python number, they will behave just as in maths: you will receive the product of the two numbers"
      ]
    },
    {
      "cell_type": "code",
      "execution_count": null,
      "metadata": {
        "id": "3sGGztmy9jqz",
        "outputId": "b1a48481-c3fc-4a91-d0ed-3ca97f7ee5f2",
        "colab": {
          "base_uri": "https://localhost:8080/"
        }
      },
      "outputs": [
        {
          "output_type": "execute_result",
          "data": {
            "text/plain": [
              "4"
            ]
          },
          "metadata": {},
          "execution_count": 1
        }
      ],
      "source": [
        "2 + 2"
      ]
    },
    {
      "cell_type": "markdown",
      "metadata": {
        "id": "P--VHI4w9jq2"
      },
      "source": [
        "But if you try to sum two strings, the behaviour will be different:"
      ]
    },
    {
      "cell_type": "code",
      "execution_count": null,
      "metadata": {
        "id": "Vbnc7Kfh9jq3",
        "outputId": "d8ed3895-0805-4eb9-d5a8-cb47dd164fdf",
        "colab": {
          "base_uri": "https://localhost:8080/",
          "height": 36
        }
      },
      "outputs": [
        {
          "output_type": "execute_result",
          "data": {
            "text/plain": [
              "'22'"
            ],
            "application/vnd.google.colaboratory.intrinsic+json": {
              "type": "string"
            }
          },
          "metadata": {},
          "execution_count": 2
        }
      ],
      "source": [
        "\"2\" + \"2\""
      ]
    },
    {
      "cell_type": "markdown",
      "metadata": {
        "id": "1vXMNDRA9jq3"
      },
      "source": [
        "Any object in Python can be assigned to a variable with the `=` operator. Variables are just names for objects - they're nicknames that allow us to identify or call our objects."
      ]
    },
    {
      "cell_type": "code",
      "execution_count": null,
      "metadata": {
        "id": "_580VfMW9jq4"
      },
      "outputs": [],
      "source": [
        "result = 4 + 3"
      ]
    },
    {
      "cell_type": "code",
      "source": [
        "result"
      ],
      "metadata": {
        "colab": {
          "base_uri": "https://localhost:8080/"
        },
        "id": "61IwrfSREocn",
        "outputId": "a4ebac57-c831-4cca-d637-6f153e325251"
      },
      "execution_count": null,
      "outputs": [
        {
          "output_type": "execute_result",
          "data": {
            "text/plain": [
              "7"
            ]
          },
          "metadata": {},
          "execution_count": 4
        }
      ]
    },
    {
      "cell_type": "markdown",
      "metadata": {
        "id": "gMrCtWGE9jq4"
      },
      "source": [
        "At any point, we can retrieve whatever we stored in a variable by using its name:"
      ]
    },
    {
      "cell_type": "code",
      "execution_count": null,
      "metadata": {
        "id": "AaWJYeHW9jq5",
        "outputId": "ae2ac8ff-a77e-4c24-e808-6c4a1984a7d8",
        "colab": {
          "base_uri": "https://localhost:8080/"
        }
      },
      "outputs": [
        {
          "output_type": "stream",
          "name": "stdout",
          "text": [
            "7\n"
          ]
        }
      ],
      "source": [
        "# https://cs.stanford.edu/people/nick/py/python-print.html\n",
        "\n",
        "print(result)"
      ]
    },
    {
      "cell_type": "markdown",
      "metadata": {
        "id": "-xH_7viN9jq5"
      },
      "source": [
        "If we want to find out what type of object a variable is, we can ask it with the function `type()`, like this:"
      ]
    },
    {
      "cell_type": "code",
      "execution_count": null,
      "metadata": {
        "id": "gU3ZbrAk9jq6",
        "outputId": "5f55a59f-f05a-4677-a81c-66c917dcc293",
        "colab": {
          "base_uri": "https://localhost:8080/"
        }
      },
      "outputs": [
        {
          "output_type": "execute_result",
          "data": {
            "text/plain": [
              "int"
            ]
          },
          "metadata": {},
          "execution_count": 5
        }
      ],
      "source": [
        "# https://www.programiz.com/python-programming/methods/built-in/type\n",
        "\n",
        "type(result)"
      ]
    },
    {
      "cell_type": "markdown",
      "metadata": {
        "id": "e3r8xQc-9jq6"
      },
      "source": [
        "###### **Exercise 1:**\n",
        "add `100` and `3.4`. Assign it to the variable `addition`. Print the type of that variable."
      ]
    },
    {
      "cell_type": "code",
      "execution_count": null,
      "metadata": {
        "id": "MC6QjWi29jq6",
        "colab": {
          "base_uri": "https://localhost:8080/"
        },
        "outputId": "4185c887-be36-4972-a9a5-c16a6e317972"
      },
      "outputs": [
        {
          "output_type": "stream",
          "name": "stdout",
          "text": [
            "<class 'float'>\n"
          ]
        }
      ],
      "source": [
        "# your code here\n",
        "addition = 100 + 3.4\n",
        "print(type(addition))"
      ]
    },
    {
      "cell_type": "markdown",
      "metadata": {
        "id": "uBveabbD9jq7"
      },
      "source": [
        "## Booleans\n",
        "\n",
        "The values `True` and `False` are special in Python. They are called \"booleans\"."
      ]
    },
    {
      "cell_type": "code",
      "execution_count": null,
      "metadata": {
        "id": "cAlYm9kJ9jq7",
        "outputId": "5391e5bb-1312-45bb-d4d0-71e44389741e",
        "colab": {
          "base_uri": "https://localhost:8080/"
        }
      },
      "outputs": [
        {
          "output_type": "execute_result",
          "data": {
            "text/plain": [
              "bool"
            ]
          },
          "metadata": {},
          "execution_count": 7
        }
      ],
      "source": [
        "type(True)"
      ]
    },
    {
      "cell_type": "code",
      "execution_count": null,
      "metadata": {
        "id": "AXToyxAt9jq7",
        "outputId": "8fd30cc7-f958-47cc-8426-0efb0e1a8983",
        "colab": {
          "base_uri": "https://localhost:8080/"
        }
      },
      "outputs": [
        {
          "output_type": "execute_result",
          "data": {
            "text/plain": [
              "bool"
            ]
          },
          "metadata": {},
          "execution_count": 8
        }
      ],
      "source": [
        "type(False)"
      ]
    },
    {
      "cell_type": "markdown",
      "metadata": {
        "id": "J1Ltqfls9jq7"
      },
      "source": [
        "If you try to use mathematical operations with booleans, will see how `True` equates to `1` and `False` equates to `0`\n"
      ]
    },
    {
      "cell_type": "code",
      "execution_count": null,
      "metadata": {
        "id": "mwsFtaDZ9jq8",
        "outputId": "51397653-215b-4c8a-ed8a-3b99f706fc8a",
        "colab": {
          "base_uri": "https://localhost:8080/"
        }
      },
      "outputs": [
        {
          "output_type": "execute_result",
          "data": {
            "text/plain": [
              "2"
            ]
          },
          "metadata": {},
          "execution_count": 9
        }
      ],
      "source": [
        "True + True"
      ]
    },
    {
      "cell_type": "code",
      "execution_count": null,
      "metadata": {
        "id": "HhT2fJJJ9jq8",
        "outputId": "f61d8abe-2dee-46a4-9fae-175c6887f65d",
        "colab": {
          "base_uri": "https://localhost:8080/"
        }
      },
      "outputs": [
        {
          "output_type": "execute_result",
          "data": {
            "text/plain": [
              "0"
            ]
          },
          "metadata": {},
          "execution_count": 10
        }
      ],
      "source": [
        "False + False"
      ]
    },
    {
      "cell_type": "markdown",
      "metadata": {
        "id": "mIrc9DDk9jq8"
      },
      "source": [
        "## Integers\n",
        "\n",
        "Integers are whole numbers (without fractions or decimal points) that can be positive or negative."
      ]
    },
    {
      "cell_type": "code",
      "execution_count": null,
      "metadata": {
        "id": "mLef5s7O9jq8",
        "outputId": "d8dcb37f-57ad-4869-cc99-f711dfa90329",
        "colab": {
          "base_uri": "https://localhost:8080/"
        }
      },
      "outputs": [
        {
          "output_type": "execute_result",
          "data": {
            "text/plain": [
              "int"
            ]
          },
          "metadata": {},
          "execution_count": 11
        }
      ],
      "source": [
        "type(-8)"
      ]
    },
    {
      "cell_type": "markdown",
      "metadata": {
        "id": "TGTFBWwS9jq9"
      },
      "source": [
        "You can use mathmatical operators with integers (and floats):\n",
        "\n",
        "- `+` Addition\n",
        "- `-` Substraction\n",
        "- `*` Multiplication\n",
        "- `/` Floating-point division\n",
        "- `//` Truncating division\n",
        "- `%` Modulus\n",
        "- `**` Exponentiation"
      ]
    },
    {
      "cell_type": "code",
      "source": [
        "199754 // 10"
      ],
      "metadata": {
        "colab": {
          "base_uri": "https://localhost:8080/"
        },
        "id": "_YlDOFvwGEwd",
        "outputId": "267a0198-8368-4e50-82c6-cd4dba7773fe"
      },
      "execution_count": null,
      "outputs": [
        {
          "output_type": "execute_result",
          "data": {
            "text/plain": [
              "19975"
            ]
          },
          "metadata": {},
          "execution_count": 7
        }
      ]
    },
    {
      "cell_type": "code",
      "source": [
        "199754 // 100"
      ],
      "metadata": {
        "colab": {
          "base_uri": "https://localhost:8080/"
        },
        "id": "i17XMdDkGIgr",
        "outputId": "70c34627-f4c0-43a2-9271-6ed805fef903"
      },
      "execution_count": null,
      "outputs": [
        {
          "output_type": "execute_result",
          "data": {
            "text/plain": [
              "1997"
            ]
          },
          "metadata": {},
          "execution_count": 8
        }
      ]
    },
    {
      "cell_type": "code",
      "source": [
        "54 % 10"
      ],
      "metadata": {
        "colab": {
          "base_uri": "https://localhost:8080/"
        },
        "id": "8RMwLsR1GK0i",
        "outputId": "0d51333e-58ea-42f7-c10a-8c10a2d264f6"
      },
      "execution_count": null,
      "outputs": [
        {
          "output_type": "execute_result",
          "data": {
            "text/plain": [
              "4"
            ]
          },
          "metadata": {},
          "execution_count": 9
        }
      ]
    },
    {
      "cell_type": "code",
      "source": [
        "3 ** 3 ** 3"
      ],
      "metadata": {
        "colab": {
          "base_uri": "https://localhost:8080/"
        },
        "id": "9L52_Z90GVng",
        "outputId": "f0c3cdaf-70eb-4b3c-c3c2-fe7f97519b2e"
      },
      "execution_count": null,
      "outputs": [
        {
          "output_type": "execute_result",
          "data": {
            "text/plain": [
              "7625597484987"
            ]
          },
          "metadata": {},
          "execution_count": 11
        }
      ]
    },
    {
      "cell_type": "markdown",
      "metadata": {
        "id": "RdTqurnS9jq9"
      },
      "source": [
        "###### **Exercise 2:**\n",
        "assign the number corresponding to the present year to the variable `year` and your age to the variable `age`. Operate with both variables to create a new variable called `birth_year`."
      ]
    },
    {
      "cell_type": "code",
      "execution_count": null,
      "metadata": {
        "id": "LWxyFfCj9jq9",
        "colab": {
          "base_uri": "https://localhost:8080/"
        },
        "outputId": "dca35d46-46a0-4988-9e8e-f87b3b08d842"
      },
      "outputs": [
        {
          "output_type": "stream",
          "name": "stdout",
          "text": [
            "1991\n"
          ]
        }
      ],
      "source": [
        "# your code here\n",
        "year = 2022\n",
        "age = 31\n",
        "birth_year = year - age\n",
        "print(birth_year)"
      ]
    },
    {
      "cell_type": "markdown",
      "metadata": {
        "id": "9HB_1T5j9jq9"
      },
      "source": [
        "You can update the value of a variable like this:"
      ]
    },
    {
      "cell_type": "code",
      "execution_count": null,
      "metadata": {
        "id": "hexmreCK9jq9",
        "outputId": "917f35a4-06ee-4495-c926-33a7a5956a91",
        "colab": {
          "base_uri": "https://localhost:8080/"
        }
      },
      "outputs": [
        {
          "output_type": "stream",
          "name": "stdout",
          "text": [
            "31\n"
          ]
        }
      ],
      "source": [
        "age = 30\n",
        "age = age + 1\n",
        "print(age)"
      ]
    },
    {
      "cell_type": "markdown",
      "metadata": {
        "id": "fOg2IqIi9jq-"
      },
      "source": [
        "Or you can get the same output by combining both arithmetic operators like this:"
      ]
    },
    {
      "cell_type": "code",
      "execution_count": null,
      "metadata": {
        "id": "sYAzFGxI9jq-",
        "outputId": "fa355bb9-996f-4ae8-8988-017cf06d483b",
        "colab": {
          "base_uri": "https://localhost:8080/"
        }
      },
      "outputs": [
        {
          "output_type": "stream",
          "name": "stdout",
          "text": [
            "31\n"
          ]
        }
      ],
      "source": [
        "age = 30\n",
        "age += 1\n",
        "print(age)"
      ]
    },
    {
      "cell_type": "markdown",
      "metadata": {
        "id": "1jGUon5V9jq-"
      },
      "source": [
        "The same holds for other mathmatical operators\n",
        "\n",
        "###### **Exercise 3:**\n",
        "create a variable called `price` with the value `100`. Then update its value in a single line by multiplying it by `2`."
      ]
    },
    {
      "cell_type": "code",
      "execution_count": null,
      "metadata": {
        "id": "y18avwiY9jq-",
        "colab": {
          "base_uri": "https://localhost:8080/"
        },
        "outputId": "b5d7e321-db78-40d3-b93b-58fd58f6f580"
      },
      "outputs": [
        {
          "output_type": "stream",
          "name": "stdout",
          "text": [
            "200\n"
          ]
        }
      ],
      "source": [
        "# your code here\n",
        "price=100\n",
        "price = price * 2\n",
        "print(price)"
      ]
    },
    {
      "cell_type": "code",
      "source": [
        "price=100\n",
        "price *= 2\n",
        "print(price)"
      ],
      "metadata": {
        "colab": {
          "base_uri": "https://localhost:8080/"
        },
        "id": "PtXwNUzjHBZg",
        "outputId": "479a4917-c85c-4659-af85-df4a725688e4"
      },
      "execution_count": null,
      "outputs": [
        {
          "output_type": "stream",
          "name": "stdout",
          "text": [
            "200\n"
          ]
        }
      ]
    },
    {
      "cell_type": "markdown",
      "metadata": {
        "id": "2GvpaJ819jq_"
      },
      "source": [
        "You can convert stuff that's not an integer to an integer with the function `int`:"
      ]
    },
    {
      "cell_type": "code",
      "execution_count": null,
      "metadata": {
        "id": "cwre3wND9jq_",
        "outputId": "b5a99390-1288-4476-cdb6-f915b92479a5",
        "colab": {
          "base_uri": "https://localhost:8080/"
        }
      },
      "outputs": [
        {
          "output_type": "execute_result",
          "data": {
            "text/plain": [
              "3"
            ]
          },
          "metadata": {},
          "execution_count": 16
        }
      ],
      "source": [
        "# https://www.w3schools.com/python/ref_func_int.asp\n",
        "\n",
        "int(3.14)"
      ]
    },
    {
      "cell_type": "code",
      "execution_count": null,
      "metadata": {
        "id": "oZTt6ynH9jrA",
        "outputId": "f1bba3ec-386a-4774-ed7b-f52324f57ac9",
        "colab": {
          "base_uri": "https://localhost:8080/"
        }
      },
      "outputs": [
        {
          "output_type": "execute_result",
          "data": {
            "text/plain": [
              "4"
            ]
          },
          "metadata": {},
          "execution_count": 17
        }
      ],
      "source": [
        "int(\"4\")"
      ]
    },
    {
      "cell_type": "markdown",
      "metadata": {
        "id": "npt0J-8m9jrA"
      },
      "source": [
        "If you try to convert to an integer something that cannot be interpreted as such, you will get an *exception*:"
      ]
    },
    {
      "cell_type": "code",
      "execution_count": null,
      "metadata": {
        "id": "uQ4cUvAu9jrA",
        "outputId": "301e1c66-f1f5-43c5-ccdc-772114bd35ae",
        "colab": {
          "base_uri": "https://localhost:8080/",
          "height": 165
        }
      },
      "outputs": [
        {
          "output_type": "error",
          "ename": "ValueError",
          "evalue": "ignored",
          "traceback": [
            "\u001b[0;31m---------------------------------------------------------------------------\u001b[0m",
            "\u001b[0;31mValueError\u001b[0m                                Traceback (most recent call last)",
            "\u001b[0;32m<ipython-input-18-159e72cb0883>\u001b[0m in \u001b[0;36m<module>\u001b[0;34m()\u001b[0m\n\u001b[0;32m----> 1\u001b[0;31m \u001b[0mint\u001b[0m\u001b[0;34m(\u001b[0m\u001b[0;34m\"Hey hey hey\"\u001b[0m\u001b[0;34m)\u001b[0m\u001b[0;34m\u001b[0m\u001b[0;34m\u001b[0m\u001b[0m\n\u001b[0m",
            "\u001b[0;31mValueError\u001b[0m: invalid literal for int() with base 10: 'Hey hey hey'"
          ]
        }
      ],
      "source": [
        "int(\"Hey hey hey\")"
      ]
    },
    {
      "cell_type": "markdown",
      "metadata": {
        "id": "79CbyD_G9jrA"
      },
      "source": [
        "## Floats\n",
        "\n",
        "Floats are numbers with decimal places"
      ]
    },
    {
      "cell_type": "code",
      "execution_count": null,
      "metadata": {
        "id": "cprwKJOd9jrA",
        "outputId": "853d0493-7038-4ba3-a196-943fd665d6c0",
        "colab": {
          "base_uri": "https://localhost:8080/"
        }
      },
      "outputs": [
        {
          "output_type": "execute_result",
          "data": {
            "text/plain": [
              "3.0"
            ]
          },
          "metadata": {},
          "execution_count": 19
        }
      ],
      "source": [
        "3."
      ]
    },
    {
      "cell_type": "markdown",
      "metadata": {
        "id": "n87g1nka9jrA"
      },
      "source": [
        "They can include the letter e for an exponent:"
      ]
    },
    {
      "cell_type": "code",
      "execution_count": null,
      "metadata": {
        "id": "EVKKC8s_9jrA",
        "outputId": "f3b664bd-291d-48f5-cd06-4e80f1bea5cf",
        "colab": {
          "base_uri": "https://localhost:8080/"
        }
      },
      "outputs": [
        {
          "output_type": "execute_result",
          "data": {
            "text/plain": [
              "300.0"
            ]
          },
          "metadata": {},
          "execution_count": 20
        }
      ],
      "source": [
        "3e2"
      ]
    },
    {
      "cell_type": "markdown",
      "metadata": {
        "id": "br3KdAjT9jrA"
      },
      "source": [
        "The function `float()` can be used to convert integers to floats:"
      ]
    },
    {
      "cell_type": "code",
      "execution_count": null,
      "metadata": {
        "id": "ySxvm6mG9jrB",
        "outputId": "7070b53a-960c-426c-e05a-808567053c4b",
        "colab": {
          "base_uri": "https://localhost:8080/"
        }
      },
      "outputs": [
        {
          "output_type": "execute_result",
          "data": {
            "text/plain": [
              "24.0"
            ]
          },
          "metadata": {},
          "execution_count": 21
        }
      ],
      "source": [
        "float(24)"
      ]
    },
    {
      "cell_type": "markdown",
      "source": [
        "###### **Exercise 4:**\n",
        "calculate how many seconds are there in a year. Store that number in a variable called `year_seconds`."
      ],
      "metadata": {
        "id": "x3cL_XwlJtis"
      }
    },
    {
      "cell_type": "code",
      "execution_count": null,
      "metadata": {
        "id": "QkoVq44S9jrB",
        "colab": {
          "base_uri": "https://localhost:8080/"
        },
        "outputId": "ecb93f8f-fe99-4cbc-b29f-f9d26925d730"
      },
      "outputs": [
        {
          "output_type": "stream",
          "name": "stdout",
          "text": [
            "31536000\n"
          ]
        }
      ],
      "source": [
        "# your code here\n",
        "year_seconds = 60 * 60 * 24 * 365\n",
        "print(year_seconds)"
      ]
    },
    {
      "cell_type": "markdown",
      "source": [
        "###### **Exercise 5:**\n",
        "multiply your result of year_seconds by your age, and store it in a new variable called `life_seconds`."
      ],
      "metadata": {
        "id": "v9Dlk7OdJ2Ba"
      }
    },
    {
      "cell_type": "code",
      "execution_count": null,
      "metadata": {
        "id": "AfdghPiM9jrB",
        "colab": {
          "base_uri": "https://localhost:8080/"
        },
        "outputId": "c3936ce8-0e20-49a7-9ad9-693e74080f68"
      },
      "outputs": [
        {
          "output_type": "execute_result",
          "data": {
            "text/plain": [
              "(977616000, 31)"
            ]
          },
          "metadata": {},
          "execution_count": 18
        }
      ],
      "source": [
        "# your code here\n",
        "life_seconds = year_seconds * age\n",
        "life_seconds, age"
      ]
    },
    {
      "cell_type": "markdown",
      "source": [
        "###### **Exercise 6:**\n",
        "calculate how many seconds you'll spend in this bootcamp. Store it into a variable called `bootcamp`."
      ],
      "metadata": {
        "id": "nxQ4KIn9KGCC"
      }
    },
    {
      "cell_type": "code",
      "execution_count": null,
      "metadata": {
        "id": "sXlpbvbD9jrB",
        "colab": {
          "base_uri": "https://localhost:8080/"
        },
        "outputId": "9b277bd4-a0ae-49f8-c2b3-1bf66333a76b"
      },
      "outputs": [
        {
          "output_type": "stream",
          "name": "stdout",
          "text": [
            "2430000\n"
          ]
        }
      ],
      "source": [
        "\n",
        "bootcamp = 15*5*9*60*60\n",
        "print(bootcamp)"
      ]
    },
    {
      "cell_type": "markdown",
      "source": [
        "###### **Exercise 7:**\n",
        "calculate what percentage of your life you will spend on this bootcamp."
      ],
      "metadata": {
        "id": "d_1eFshnKdXw"
      }
    },
    {
      "cell_type": "code",
      "execution_count": null,
      "metadata": {
        "id": "vkv5XOWp9jrB",
        "colab": {
          "base_uri": "https://localhost:8080/"
        },
        "outputId": "6ae636a0-7e2b-4cb8-9c9b-bca611973844"
      },
      "outputs": [
        {
          "output_type": "stream",
          "name": "stdout",
          "text": [
            "0.25\n"
          ]
        }
      ],
      "source": [
        "# your code here\n",
        "print(round(float((bootcamp / life_seconds)* 100),2))"
      ]
    },
    {
      "cell_type": "markdown",
      "metadata": {
        "id": "SJAbW5In9jrB"
      },
      "source": [
        "## Text Strings\n",
        "\n",
        "You will use text just as much as numbers when programming. Strings are created with either single quotes `'` or double quotes `\"`:"
      ]
    },
    {
      "cell_type": "code",
      "execution_count": null,
      "metadata": {
        "id": "Rxgolhes9jrB",
        "outputId": "ed1c227a-583f-4afb-9d54-1bae6ab245b8",
        "colab": {
          "base_uri": "https://localhost:8080/"
        }
      },
      "outputs": [
        {
          "output_type": "stream",
          "name": "stdout",
          "text": [
            "A string with double quotes\n",
            "A string with single quotes\n"
          ]
        }
      ],
      "source": [
        "print(\"A string with double quotes\")\n",
        "\n",
        "print('A string with single quotes')"
      ]
    },
    {
      "cell_type": "markdown",
      "metadata": {
        "id": "liAc8o259jrC"
      },
      "source": [
        "Having two possible quotation signs allows for having strings with quotes inside:"
      ]
    },
    {
      "cell_type": "code",
      "execution_count": null,
      "metadata": {
        "id": "B9HZT5E99jrC",
        "outputId": "68cdd4bf-48f8-4cc7-cfc1-e004db81f0e2",
        "colab": {
          "base_uri": "https://localhost:8080/"
        }
      },
      "outputs": [
        {
          "output_type": "stream",
          "name": "stdout",
          "text": [
            "The name of our school is 'WBS CODING SCHOOL', which can be abbreviated to 'WBSCS'\n",
            "The name of our school is \"WBS CODING SCHOOL\", which can be abbreviated to \"WBSCS\"\n"
          ]
        }
      ],
      "source": [
        "print(\"The name of our school is 'WBS CODING SCHOOL', which can be abbreviated to 'WBSCS'\")\n",
        "\n",
        "print('The name of our school is \"WBS CODING SCHOOL\", which can be abbreviated to \"WBSCS\"')"
      ]
    },
    {
      "cell_type": "markdown",
      "metadata": {
        "id": "tGDtyD1S9jrC"
      },
      "source": [
        "If you need to create a multiple-line string, you can use triple quotes:"
      ]
    },
    {
      "cell_type": "code",
      "execution_count": null,
      "metadata": {
        "id": "OggB9_6q9jrC",
        "outputId": "6507d1a0-1583-4c4f-fe63-95896faf1f43",
        "colab": {
          "base_uri": "https://localhost:8080/"
        }
      },
      "outputs": [
        {
          "output_type": "stream",
          "name": "stdout",
          "text": [
            "Hold fast to dreams\n",
            "For if dreams die\n",
            "Life is a broken-winged bird\n",
            "That cannot fly.\n",
            "Hold fast to dreams\n",
            "For when dreams go\n",
            "Life is a barren field\n",
            "Frozen with snow.\n"
          ]
        }
      ],
      "source": [
        "poem = \"\"\"Hold fast to dreams\n",
        "For if dreams die\n",
        "Life is a broken-winged bird\n",
        "That cannot fly.\n",
        "Hold fast to dreams\n",
        "For when dreams go\n",
        "Life is a barren field\n",
        "Frozen with snow.\"\"\"\n",
        "\n",
        "print(poem)"
      ]
    },
    {
      "cell_type": "markdown",
      "metadata": {
        "id": "XMDVSzhl9jrC"
      },
      "source": [
        "You can create a string out of another data type with `str()`:"
      ]
    },
    {
      "cell_type": "code",
      "execution_count": null,
      "metadata": {
        "id": "Egjiy0FX9jrC",
        "outputId": "802f8785-7557-47ca-e141-e75cfd185993",
        "colab": {
          "base_uri": "https://localhost:8080/"
        }
      },
      "outputs": [
        {
          "output_type": "stream",
          "name": "stdout",
          "text": [
            "88\n"
          ]
        }
      ],
      "source": [
        "# https://www.w3schools.com/python/ref_func_str.asp\n",
        "\n",
        "str_88 = str(88)\n",
        "print(str_88)"
      ]
    },
    {
      "cell_type": "code",
      "execution_count": null,
      "metadata": {
        "id": "sII6zfHc9jrC",
        "outputId": "29bf76b9-a31c-4133-f37f-ba653bf70363",
        "colab": {
          "base_uri": "https://localhost:8080/"
        }
      },
      "outputs": [
        {
          "output_type": "execute_result",
          "data": {
            "text/plain": [
              "str"
            ]
          },
          "metadata": {},
          "execution_count": 30
        }
      ],
      "source": [
        "type(str_88)"
      ]
    },
    {
      "cell_type": "markdown",
      "metadata": {
        "id": "YncConBM9jrC"
      },
      "source": [
        "Some charachters in python can have a special meaning.\n",
        "By using a backslash `\\` preceding a character, we \"escape\" its usual meaning and give a special meaning to it. \n",
        "\n",
        "For example, `\\n` will add a new line, and `\\t` will add a tab:"
      ]
    },
    {
      "cell_type": "code",
      "execution_count": null,
      "metadata": {
        "id": "goss37jh9jrC",
        "outputId": "87e3686b-49b6-406d-86ad-58b982058236",
        "colab": {
          "base_uri": "https://localhost:8080/"
        }
      },
      "outputs": [
        {
          "output_type": "stream",
          "name": "stdout",
          "text": [
            "This is the first line\n",
            "And this is the second one.\n"
          ]
        }
      ],
      "source": [
        "print(\"This is the first line\\nAnd this is the second one.\")"
      ]
    },
    {
      "cell_type": "code",
      "execution_count": null,
      "metadata": {
        "id": "pITgLZAt9jrC",
        "outputId": "eddcd426-cda9-4016-8531-7433ee1f43c7",
        "colab": {
          "base_uri": "https://localhost:8080/"
        }
      },
      "outputs": [
        {
          "output_type": "stream",
          "name": "stdout",
          "text": [
            "Before the tab\tAnd after the tab.\n"
          ]
        }
      ],
      "source": [
        "print(\"Before the tab\\tAnd after the tab.\")"
      ]
    },
    {
      "cell_type": "markdown",
      "metadata": {
        "id": "ecl__5ED9jrD"
      },
      "source": [
        "Similarly, you can escape quotes by using `\\`:"
      ]
    },
    {
      "cell_type": "code",
      "execution_count": null,
      "metadata": {
        "id": "mkBuneqa9jrD",
        "outputId": "93bf7731-5869-4146-9b5c-f5410b1a0b3d",
        "colab": {
          "base_uri": "https://localhost:8080/"
        }
      },
      "outputs": [
        {
          "output_type": "stream",
          "name": "stdout",
          "text": [
            "The world's largest rubber duck was 54'2\" by 67'7\" by 105'\n"
          ]
        }
      ],
      "source": [
        "fact = \"The world's largest rubber duck was 54'2\\\" by 67'7\\\" by 105'\"\n",
        "print(fact)"
      ]
    },
    {
      "cell_type": "markdown",
      "metadata": {
        "id": "-p906KkV9jrD"
      },
      "source": [
        "If you need to use a backslash inside your string, you type `\\\\`: the first backslash escapes the second one:"
      ]
    },
    {
      "cell_type": "code",
      "execution_count": null,
      "metadata": {
        "id": "aAy-Fro69jrE",
        "outputId": "873e7bd0-d5af-458c-8d82-40346e7c0e17",
        "colab": {
          "base_uri": "https://localhost:8080/"
        }
      },
      "outputs": [
        {
          "output_type": "stream",
          "name": "stdout",
          "text": [
            "Please contemplate a single, one —and only one— backslash: \\\n"
          ]
        }
      ],
      "source": [
        "print(\"Please contemplate a single, one —and only one— backslash: \\\\\")"
      ]
    },
    {
      "cell_type": "markdown",
      "metadata": {
        "id": "GTFObd169jrE"
      },
      "source": [
        "By typing `r` before the quotes, we denote a string as a _raw string_, which will ignore any special meaning:"
      ]
    },
    {
      "cell_type": "code",
      "execution_count": null,
      "metadata": {
        "id": "m74jQvn89jrE",
        "outputId": "e58b721a-c14d-4d3e-be31-80c24fe5ab2c",
        "colab": {
          "base_uri": "https://localhost:8080/"
        }
      },
      "outputs": [
        {
          "output_type": "stream",
          "name": "stdout",
          "text": [
            "This will not create a new line \\n and here we will see two backslashes \\\\\n"
          ]
        }
      ],
      "source": [
        "raw_str = r\"This will not create a new line \\n and here we will see two backslashes \\\\\"\n",
        "print(raw_str)"
      ]
    },
    {
      "cell_type": "markdown",
      "metadata": {
        "id": "gdXLE6kg9jrF"
      },
      "source": [
        "You can combine strings using `+` and multiply them with `*`:"
      ]
    },
    {
      "cell_type": "code",
      "execution_count": null,
      "metadata": {
        "id": "60DFFaI29jrF",
        "outputId": "d517d9f8-144e-4a64-c44f-87e6f63b7e1d",
        "colab": {
          "base_uri": "https://localhost:8080/"
        }
      },
      "outputs": [
        {
          "output_type": "stream",
          "name": "stdout",
          "text": [
            "DataScience\n"
          ]
        }
      ],
      "source": [
        "print(\"Data\" + \"Science\")"
      ]
    },
    {
      "cell_type": "code",
      "execution_count": null,
      "metadata": {
        "id": "Lc2l7DWQ9jrF",
        "outputId": "0ce9a9c6-6ca9-493f-a18b-6609c5d46d33",
        "colab": {
          "base_uri": "https://localhost:8080/"
        }
      },
      "outputs": [
        {
          "output_type": "stream",
          "name": "stdout",
          "text": [
            "DataDataDataDataDataDataDataDataDataData\n"
          ]
        }
      ],
      "source": [
        "print(\"Data\"*10)"
      ]
    },
    {
      "cell_type": "markdown",
      "metadata": {
        "id": "E6X3R-Qu9jrF"
      },
      "source": [
        "Using `[]` you can grab certain characters from a string by specifying their position\n",
        "- We use positive numbers to start counting from the begining of a string. The 1st letter is position `[0]` \n",
        "- We use negative numbers to start counting from the end of a string. The last letter is position `[-1]`"
      ]
    },
    {
      "cell_type": "code",
      "execution_count": null,
      "metadata": {
        "id": "kugvoRh59jrF",
        "outputId": "1a67e6bf-36e3-4b59-8d62-44ed3df8a2dd",
        "colab": {
          "base_uri": "https://localhost:8080/",
          "height": 35
        }
      },
      "outputs": [
        {
          "output_type": "execute_result",
          "data": {
            "text/plain": [
              "'a'"
            ],
            "application/vnd.google.colaboratory.intrinsic+json": {
              "type": "string"
            }
          },
          "metadata": {},
          "execution_count": 38
        }
      ],
      "source": [
        "letters = \"abcdefghijklmnopqrstuvwxyz\"\n",
        "\n",
        "letters[0]"
      ]
    },
    {
      "cell_type": "code",
      "execution_count": null,
      "metadata": {
        "id": "PhVVHG5O9jrF",
        "outputId": "c0cea4b5-4679-42ba-90c2-2689821f7a8f",
        "colab": {
          "base_uri": "https://localhost:8080/",
          "height": 35
        }
      },
      "outputs": [
        {
          "output_type": "execute_result",
          "data": {
            "text/plain": [
              "'c'"
            ],
            "application/vnd.google.colaboratory.intrinsic+json": {
              "type": "string"
            }
          },
          "metadata": {},
          "execution_count": 39
        }
      ],
      "source": [
        "letters[2]"
      ]
    },
    {
      "cell_type": "code",
      "execution_count": null,
      "metadata": {
        "id": "_GUQzusO9jrF",
        "outputId": "a758c861-897b-48eb-d3f2-d72c10ce5655",
        "colab": {
          "base_uri": "https://localhost:8080/",
          "height": 35
        }
      },
      "outputs": [
        {
          "output_type": "execute_result",
          "data": {
            "text/plain": [
              "'z'"
            ],
            "application/vnd.google.colaboratory.intrinsic+json": {
              "type": "string"
            }
          },
          "metadata": {},
          "execution_count": 40
        }
      ],
      "source": [
        "letters[-1]"
      ]
    },
    {
      "cell_type": "code",
      "execution_count": null,
      "metadata": {
        "id": "V5_KTTMm9jrF",
        "outputId": "a120f2ef-5947-4f57-af7b-0a0fa7b2f22e",
        "colab": {
          "base_uri": "https://localhost:8080/",
          "height": 35
        }
      },
      "outputs": [
        {
          "output_type": "execute_result",
          "data": {
            "text/plain": [
              "'w'"
            ],
            "application/vnd.google.colaboratory.intrinsic+json": {
              "type": "string"
            }
          },
          "metadata": {},
          "execution_count": 41
        }
      ],
      "source": [
        "letters [-4]"
      ]
    },
    {
      "cell_type": "markdown",
      "metadata": {
        "id": "XaVoo-1O9jrF"
      },
      "source": [
        "You can _slice_ a string using `[start:end]`. Note that the start is inclusive, but the end is not:"
      ]
    },
    {
      "cell_type": "code",
      "execution_count": null,
      "metadata": {
        "id": "oZe67mOX9jrF",
        "outputId": "376559bf-432b-45aa-dda1-ee9c68ad648c",
        "colab": {
          "base_uri": "https://localhost:8080/",
          "height": 35
        }
      },
      "outputs": [
        {
          "output_type": "execute_result",
          "data": {
            "text/plain": [
              "'bcde'"
            ],
            "application/vnd.google.colaboratory.intrinsic+json": {
              "type": "string"
            }
          },
          "metadata": {},
          "execution_count": 42
        }
      ],
      "source": [
        "letters[1:5]"
      ]
    },
    {
      "cell_type": "markdown",
      "metadata": {
        "id": "V3z2_t-L9jrG"
      },
      "source": [
        "If you don't specify the start, the slice will start at the beginning of the string. Same goes for the end:"
      ]
    },
    {
      "cell_type": "code",
      "execution_count": null,
      "metadata": {
        "id": "aG7gvGat9jrG",
        "outputId": "7c2ddb57-84f2-49f2-b471-670e85e8b9df",
        "colab": {
          "base_uri": "https://localhost:8080/",
          "height": 35
        }
      },
      "outputs": [
        {
          "output_type": "execute_result",
          "data": {
            "text/plain": [
              "'abcd'"
            ],
            "application/vnd.google.colaboratory.intrinsic+json": {
              "type": "string"
            }
          },
          "metadata": {},
          "execution_count": 43
        }
      ],
      "source": [
        "letters[:4]"
      ]
    },
    {
      "cell_type": "code",
      "execution_count": null,
      "metadata": {
        "id": "byxy0Fxu9jrG",
        "outputId": "99d06d51-8c2e-4506-e490-c2d1b65f51e4",
        "colab": {
          "base_uri": "https://localhost:8080/",
          "height": 35
        }
      },
      "outputs": [
        {
          "output_type": "execute_result",
          "data": {
            "text/plain": [
              "'efghijklmnopqrstuvwxyz'"
            ],
            "application/vnd.google.colaboratory.intrinsic+json": {
              "type": "string"
            }
          },
          "metadata": {},
          "execution_count": 44
        }
      ],
      "source": [
        "letters[4:]"
      ]
    },
    {
      "cell_type": "markdown",
      "metadata": {
        "id": "boj3LTz89jrG"
      },
      "source": [
        "Counting how many characters are there in a string can be done with `len()`:"
      ]
    },
    {
      "cell_type": "code",
      "execution_count": null,
      "metadata": {
        "id": "ls59e3gu9jrG",
        "outputId": "87c3b91d-def4-468b-d010-cf3091af8522",
        "colab": {
          "base_uri": "https://localhost:8080/"
        }
      },
      "outputs": [
        {
          "output_type": "execute_result",
          "data": {
            "text/plain": [
              "26"
            ]
          },
          "metadata": {},
          "execution_count": 45
        }
      ],
      "source": [
        "# https://www.w3schools.com/python/ref_func_len.asp\n",
        "\n",
        "len(letters)"
      ]
    },
    {
      "cell_type": "markdown",
      "metadata": {
        "id": "7WyQW4Ig9jrG"
      },
      "source": [
        "The `split` function lets you break a string into smaller strings. The split occurs every time a certain character appears in the string, such as a comma or full stop."
      ]
    },
    {
      "cell_type": "code",
      "execution_count": null,
      "metadata": {
        "id": "uQ1bJH_z9jrG"
      },
      "outputs": [],
      "source": [
        "jobs = \"Data Scientist, Data Analyst, Data Engineer, Business Analyst, Marketing Analyst, Analytics Consultant\""
      ]
    },
    {
      "cell_type": "code",
      "execution_count": null,
      "metadata": {
        "id": "XeizyHTZ9jrG",
        "outputId": "2c98d51a-8642-4952-f0cb-d8eb2b677aa4",
        "colab": {
          "base_uri": "https://localhost:8080/",
          "height": 35
        }
      },
      "outputs": [
        {
          "output_type": "execute_result",
          "data": {
            "text/plain": [
              "'Data Scientist, Data Analyst, Data Engineer, Business Analyst, Marketing Analyst, Analytics Consultant'"
            ],
            "application/vnd.google.colaboratory.intrinsic+json": {
              "type": "string"
            }
          },
          "metadata": {},
          "execution_count": 47
        }
      ],
      "source": [
        "jobs"
      ]
    },
    {
      "cell_type": "code",
      "execution_count": null,
      "metadata": {
        "id": "MGMy9Lvs9jrG",
        "outputId": "3591e67d-45fe-4430-b7da-7945d1e6e86e",
        "colab": {
          "base_uri": "https://localhost:8080/"
        }
      },
      "outputs": [
        {
          "output_type": "execute_result",
          "data": {
            "text/plain": [
              "['Data Scientist',\n",
              " ' Data Analyst',\n",
              " ' Data Engineer',\n",
              " ' Business Analyst',\n",
              " ' Marketing Analyst',\n",
              " ' Analytics Consultant']"
            ]
          },
          "metadata": {},
          "execution_count": 48
        }
      ],
      "source": [
        "# https://www.w3schools.com/python/ref_string_split.asp\n",
        "\n",
        "jobs.split(\",\")"
      ]
    },
    {
      "cell_type": "markdown",
      "metadata": {
        "id": "jTkK-9YB9jrG"
      },
      "source": [
        "You can substitute a character using `replace()`:"
      ]
    },
    {
      "cell_type": "code",
      "execution_count": null,
      "metadata": {
        "id": "EfRAH1DQ9jrG",
        "outputId": "dad6b0eb-3d71-4395-95fe-49497716f82b",
        "colab": {
          "base_uri": "https://localhost:8080/",
          "height": 35
        }
      },
      "outputs": [
        {
          "output_type": "execute_result",
          "data": {
            "text/plain": [
              "'Duck Scientist, Duck Analyst, Duck Engineer, Business Analyst, Marketing Analyst, Analytics Consultant'"
            ],
            "application/vnd.google.colaboratory.intrinsic+json": {
              "type": "string"
            }
          },
          "metadata": {},
          "execution_count": 49
        }
      ],
      "source": [
        "# https://www.w3schools.com/python/ref_string_replace.asp\n",
        "\n",
        "jobs.replace(\"Data\", \"Duck\")"
      ]
    },
    {
      "cell_type": "markdown",
      "metadata": {
        "id": "8kcFyXzW9jrG"
      },
      "source": [
        "You can specify how many times do you want to make that replacement:"
      ]
    },
    {
      "cell_type": "code",
      "execution_count": null,
      "metadata": {
        "id": "UVpKW6vN9jrH",
        "outputId": "fddcd00c-40c5-4856-c044-c78e6ac1f8ae",
        "colab": {
          "base_uri": "https://localhost:8080/",
          "height": 35
        }
      },
      "outputs": [
        {
          "output_type": "execute_result",
          "data": {
            "text/plain": [
              "'Duck Scientist, Duck Analyst, Data Engineer, Business Analyst, Marketing Analyst, Analytics Consultant'"
            ],
            "application/vnd.google.colaboratory.intrinsic+json": {
              "type": "string"
            }
          },
          "metadata": {},
          "execution_count": 50
        }
      ],
      "source": [
        "jobs.replace(\"Data\", \"Duck\", 2)"
      ]
    },
    {
      "cell_type": "markdown",
      "metadata": {
        "id": "eOoL1zpB9jrH"
      },
      "source": [
        "A very common process in data cleaning is to remove preceeding and trailing spaces from strings. The function `strip()` does exactly that:"
      ]
    },
    {
      "cell_type": "code",
      "execution_count": null,
      "metadata": {
        "id": "hk0Udvyn9jrH",
        "outputId": "e8dbad21-c27e-4b3a-8e15-a1da0d27935a",
        "colab": {
          "base_uri": "https://localhost:8080/"
        }
      },
      "outputs": [
        {
          "output_type": "stream",
          "name": "stdout",
          "text": [
            "                     wow                     \n"
          ]
        }
      ],
      "source": [
        "wow = \"                     wow                     \"\n",
        "print(wow)"
      ]
    },
    {
      "cell_type": "code",
      "execution_count": null,
      "metadata": {
        "id": "mZWhXNBD9jrH",
        "outputId": "3f1c136d-5ab5-4ae4-bb73-938bc3a78397",
        "colab": {
          "base_uri": "https://localhost:8080/",
          "height": 35
        }
      },
      "outputs": [
        {
          "output_type": "execute_result",
          "data": {
            "text/plain": [
              "'wow'"
            ],
            "application/vnd.google.colaboratory.intrinsic+json": {
              "type": "string"
            }
          },
          "metadata": {},
          "execution_count": 52
        }
      ],
      "source": [
        "# https://www.w3schools.com/python/ref_string_strip.asp\n",
        "\n",
        "wow.strip()"
      ]
    },
    {
      "cell_type": "markdown",
      "metadata": {
        "id": "O8qkC9Ug9jrH"
      },
      "source": [
        "There are many more string methods in Python. Browse through them here: https://www.w3schools.com/python/python_ref_string.asp \n",
        "\n",
        "About 99.9% of the time, coding does not mean memorizing functions and knowing them off by heart, but being quick in finding the function you need, discovering how to use them, reading the documentation, or simply adapting coding examples from the internet to meet your needs. \n",
        "\n",
        "In the exercises below, you will have to use several Python string methods, in combination with what you've learned here. Use the link from _w3schools_ or Google around to complete them."
      ]
    },
    {
      "cell_type": "markdown",
      "metadata": {
        "id": "iYebLIcM9jrH"
      },
      "source": [
        "###### **Exercise 8:**\n",
        "create a Python string with the following text, and assign it to the variable `data_science`:\n",
        "\n",
        "Data science is an interdisciplinary field that uses scientific methods, processes, algorithms and systems to extract knowledge and insights from noisy, structured and unstructured data, and apply knowledge and actionable insights from data across a broad range of application domains. \n",
        "\n",
        "Data science is related to data mining, machine learning and big data. Data science is a \"concept to unify statistics, data analysis, informatics, and their related methods\" in order to \"understand and analyze actual phenomena\" with data. It uses techniques and theories drawn from many fields within the context of mathematics, statistics, computer science, information science, and domain knowledge. However, data science is different from computer science and information science. Turing Award winner Jim Gray imagined data science as a \"fourth paradigm\" of science (empirical, theoretical, computational, and now data-driven) and asserted that \"everything about science is changing because of the impact of information technology\" and the data deluge."
      ]
    },
    {
      "cell_type": "code",
      "execution_count": null,
      "metadata": {
        "id": "sqWvKQMU9jrH",
        "colab": {
          "base_uri": "https://localhost:8080/",
          "height": 140
        },
        "outputId": "679ad968-80c0-4480-a303-2bd600e724dc"
      },
      "outputs": [
        {
          "output_type": "execute_result",
          "data": {
            "text/plain": [
              "'Data science is an interdisciplinary field that uses scientific methods, processes, algorithms and systems to extract knowledge and insights from noisy, structured and unstructured data, and apply knowledge and actionable insights from data across a broad range of application domains.\\n\\nData science is related to data mining, machine learning and big data. Data science is a \"concept to unify statistics, data analysis, informatics, and their related methods\" in order to \"understand and analyze actual phenomena\" with data. It uses techniques and theories drawn from many fields within the context of mathematics, statistics, computer science, information science, and domain knowledge. However, data science is different from computer science and information science. Turing Award winner Jim Gray imagined data science as a \"fourth paradigm\" of science (empirical, theoretical, computational, and now data-driven) and asserted that \"everything about science is changing because of the impact of information technology\" and the data deluge.'"
            ],
            "application/vnd.google.colaboratory.intrinsic+json": {
              "type": "string"
            }
          },
          "metadata": {},
          "execution_count": 27
        }
      ],
      "source": [
        "# your code here\n",
        "data_science = '''Data science is an interdisciplinary field that uses scientific methods, processes, algorithms and systems to extract knowledge and insights from noisy, structured and unstructured data, and apply knowledge and actionable insights from data across a broad range of application domains.\n",
        "\n",
        "Data science is related to data mining, machine learning and big data. Data science is a \"concept to unify statistics, data analysis, informatics, and their related methods\" in order to \"understand and analyze actual phenomena\" with data. It uses techniques and theories drawn from many fields within the context of mathematics, statistics, computer science, information science, and domain knowledge. However, data science is different from computer science and information science. Turing Award winner Jim Gray imagined data science as a \"fourth paradigm\" of science (empirical, theoretical, computational, and now data-driven) and asserted that \"everything about science is changing because of the impact of information technology\" and the data deluge.'''\n",
        "data_science"
      ]
    },
    {
      "cell_type": "markdown",
      "metadata": {
        "id": "g8DIfhZ_9jrH"
      },
      "source": [
        "###### **Exercise 9:**\n",
        "how many characters are there in `data_science`?"
      ]
    },
    {
      "cell_type": "code",
      "execution_count": null,
      "metadata": {
        "id": "q6gDSO3E9jrH",
        "colab": {
          "base_uri": "https://localhost:8080/"
        },
        "outputId": "969466af-9b4d-4ac6-e46e-9c31694a074e"
      },
      "outputs": [
        {
          "output_type": "execute_result",
          "data": {
            "text/plain": [
              "1042"
            ]
          },
          "metadata": {},
          "execution_count": 28
        }
      ],
      "source": [
        "# your code here\n",
        "len(data_science)"
      ]
    },
    {
      "cell_type": "code",
      "source": [
        "space = \"ab c\"\n",
        "len(space)"
      ],
      "metadata": {
        "colab": {
          "base_uri": "https://localhost:8080/"
        },
        "id": "OOq6aQZjJGoh",
        "outputId": "7b2e61d3-401a-4c1d-8e4b-8039a6e20bc7"
      },
      "execution_count": null,
      "outputs": [
        {
          "output_type": "execute_result",
          "data": {
            "text/plain": [
              "4"
            ]
          },
          "metadata": {},
          "execution_count": 31
        }
      ]
    },
    {
      "cell_type": "code",
      "source": [
        "new_line = \"ab\\nc\"\n",
        "print(new_line)"
      ],
      "metadata": {
        "colab": {
          "base_uri": "https://localhost:8080/"
        },
        "id": "FDUwMTY-I39A",
        "outputId": "de92ed3d-1295-4c88-b5a0-c3186bfa56e9"
      },
      "execution_count": null,
      "outputs": [
        {
          "output_type": "stream",
          "name": "stdout",
          "text": [
            "ab\n",
            "c\n"
          ]
        }
      ]
    },
    {
      "cell_type": "code",
      "source": [
        "len(new_line)"
      ],
      "metadata": {
        "colab": {
          "base_uri": "https://localhost:8080/"
        },
        "id": "dPuroTLBI9_Q",
        "outputId": "aeaa2365-4329-42aa-c15a-baf426f6774e"
      },
      "execution_count": null,
      "outputs": [
        {
          "output_type": "execute_result",
          "data": {
            "text/plain": [
              "4"
            ]
          },
          "metadata": {},
          "execution_count": 30
        }
      ]
    },
    {
      "cell_type": "markdown",
      "metadata": {
        "id": "cnXae6C19jrI"
      },
      "source": [
        "###### **Exercise 10:**\n",
        "convert all of `data_science` to lower case."
      ]
    },
    {
      "cell_type": "code",
      "source": [
        "x = data_science.casefold()\n",
        "x"
      ],
      "metadata": {
        "colab": {
          "base_uri": "https://localhost:8080/",
          "height": 140
        },
        "id": "y6sZIBUlJkIS",
        "outputId": "9340fcb6-654c-4567-a5c2-ae843ab954d2"
      },
      "execution_count": null,
      "outputs": [
        {
          "output_type": "execute_result",
          "data": {
            "text/plain": [
              "'data science is an interdisciplinary field that uses scientific methods, processes, algorithms and systems to extract knowledge and insights from noisy, structured and unstructured data, and apply knowledge and actionable insights from data across a broad range of application domains.\\n\\ndata science is related to data mining, machine learning and big data. data science is a \"concept to unify statistics, data analysis, informatics, and their related methods\" in order to \"understand and analyze actual phenomena\" with data. it uses techniques and theories drawn from many fields within the context of mathematics, statistics, computer science, information science, and domain knowledge. however, data science is different from computer science and information science. turing award winner jim gray imagined data science as a \"fourth paradigm\" of science (empirical, theoretical, computational, and now data-driven) and asserted that \"everything about science is changing because of the impact of information technology\" and the data deluge.'"
            ],
            "application/vnd.google.colaboratory.intrinsic+json": {
              "type": "string"
            }
          },
          "metadata": {},
          "execution_count": 34
        }
      ]
    },
    {
      "cell_type": "code",
      "execution_count": null,
      "metadata": {
        "id": "VsUPsobG9jrI",
        "colab": {
          "base_uri": "https://localhost:8080/"
        },
        "outputId": "0fe9af34-f9c7-46dc-bc4b-3d3a87ce796c"
      },
      "outputs": [
        {
          "output_type": "stream",
          "name": "stdout",
          "text": [
            "data science is an interdisciplinary field that uses scientific methods, processes, algorithms and systems to extract knowledge and insights from noisy, structured and unstructured data, and apply knowledge and actionable insights from data across a broad range of application domains.\n",
            "\n",
            "data science is related to data mining, machine learning and big data. data science is a \"concept to unify statistics, data analysis, informatics, and their related methods\" in order to \"understand and analyze actual phenomena\" with data. it uses techniques and theories drawn from many fields within the context of mathematics, statistics, computer science, information science, and domain knowledge. however, data science is different from computer science and information science. turing award winner jim gray imagined data science as a \"fourth paradigm\" of science (empirical, theoretical, computational, and now data-driven) and asserted that \"everything about science is changing because of the impact of information technology\" and the data deluge.\n"
          ]
        }
      ],
      "source": [
        "# your code here\n",
        "print(data_science.lower())"
      ]
    },
    {
      "cell_type": "markdown",
      "metadata": {
        "id": "M2ig3CBO9jrI"
      },
      "source": [
        "###### **Exercise 11:**\n",
        "how many times does the word \"data\" appear in the string you converted to lower case?"
      ]
    },
    {
      "cell_type": "code",
      "execution_count": null,
      "metadata": {
        "id": "d3xnrIw69jrJ",
        "colab": {
          "base_uri": "https://localhost:8080/"
        },
        "outputId": "d3d8a1f9-4b89-4b60-9ca9-ec75272f06bd"
      },
      "outputs": [
        {
          "output_type": "stream",
          "name": "stdout",
          "text": [
            "13\n"
          ]
        }
      ],
      "source": [
        "# your code here\n",
        "x = data_science.lower().count(\"data\")\n",
        "print(x)"
      ]
    },
    {
      "cell_type": "markdown",
      "metadata": {
        "id": "sqLnagdM9jrK"
      },
      "source": [
        "###### **Exercise 12:**\n",
        "separate the string into sentences, splitting it whenever there is a fullstop (`.`)."
      ]
    },
    {
      "cell_type": "code",
      "execution_count": null,
      "metadata": {
        "id": "IiV2QyrT9jrK",
        "colab": {
          "base_uri": "https://localhost:8080/"
        },
        "outputId": "e675cbf7-f5d6-43c2-814a-9be949aa5fa3"
      },
      "outputs": [
        {
          "output_type": "execute_result",
          "data": {
            "text/plain": [
              "['data science is an interdisciplinary field that uses scientific methods, processes, algorithms and systems to extract knowledge and insights from noisy, structured and unstructured data, and apply knowledge and actionable insights from data across a broad range of application domains',\n",
              " '\\n\\ndata science is related to data mining, machine learning and big data',\n",
              " ' data science is a \"concept to unify statistics, data analysis, informatics, and their related methods\" in order to \"understand and analyze actual phenomena\" with data',\n",
              " ' it uses techniques and theories drawn from many fields within the context of mathematics, statistics, computer science, information science, and domain knowledge',\n",
              " ' however, data science is different from computer science and information science',\n",
              " ' turing award winner jim gray imagined data science as a \"fourth paradigm\" of science (empirical, theoretical, computational, and now data-driven) and asserted that \"everything about science is changing because of the impact of information technology\" and the data deluge',\n",
              " '']"
            ]
          },
          "metadata": {},
          "execution_count": 42
        }
      ],
      "source": [
        "# your code here\n",
        "x = data_science.lower().split('.')\n",
        "x"
      ]
    },
    {
      "cell_type": "markdown",
      "metadata": {
        "id": "EesNFTTO9jrK"
      },
      "source": [
        "###### **Exercise 13:**\n",
        "capitalise the first letter of every word in the string."
      ]
    },
    {
      "cell_type": "code",
      "execution_count": null,
      "metadata": {
        "id": "kpZGn0NK9jrK",
        "colab": {
          "base_uri": "https://localhost:8080/",
          "height": 140
        },
        "outputId": "210320e5-febe-40ff-b8e6-a95bc9124088"
      },
      "outputs": [
        {
          "output_type": "execute_result",
          "data": {
            "text/plain": [
              "'Data Science Is An Interdisciplinary Field That Uses Scientific Methods, Processes, Algorithms And Systems To Extract Knowledge And Insights From Noisy, Structured And Unstructured Data, And Apply Knowledge And Actionable Insights From Data Across A Broad Range Of Application Domains.\\n\\nData Science Is Related To Data Mining, Machine Learning And Big Data. Data Science Is A \"Concept To Unify Statistics, Data Analysis, Informatics, And Their Related Methods\" In Order To \"Understand And Analyze Actual Phenomena\" With Data. It Uses Techniques And Theories Drawn From Many Fields Within The Context Of Mathematics, Statistics, Computer Science, Information Science, And Domain Knowledge. However, Data Science Is Different From Computer Science And Information Science. Turing Award Winner Jim Gray Imagined Data Science As A \"Fourth Paradigm\" Of Science (Empirical, Theoretical, Computational, And Now Data-Driven) And Asserted That \"Everything About Science Is Changing Because Of The Impact Of Information Technology\" And The Data Deluge.'"
            ],
            "application/vnd.google.colaboratory.intrinsic+json": {
              "type": "string"
            }
          },
          "metadata": {},
          "execution_count": 46
        }
      ],
      "source": [
        "# your code here\n",
        "data_science.title()"
      ]
    },
    {
      "cell_type": "markdown",
      "metadata": {
        "id": "1uTXO2NB9jrK"
      },
      "source": [
        "###### **Exercise 14:**\n",
        "find the index of the word \"Turing\" in the string."
      ]
    },
    {
      "cell_type": "code",
      "execution_count": null,
      "metadata": {
        "id": "HuV6OUsQ9jrK",
        "colab": {
          "base_uri": "https://localhost:8080/"
        },
        "outputId": "fa4ba0ac-00d1-43d9-c331-257858a85dbc"
      },
      "outputs": [
        {
          "output_type": "execute_result",
          "data": {
            "text/plain": [
              "771"
            ]
          },
          "metadata": {},
          "execution_count": 47
        }
      ],
      "source": [
        "# your code here\n",
        "data_science.index('Turing')"
      ]
    },
    {
      "cell_type": "code",
      "source": [
        "data_science.find(\"Turing\")"
      ],
      "metadata": {
        "colab": {
          "base_uri": "https://localhost:8080/"
        },
        "id": "2ek-Un9OLZvi",
        "outputId": "a0fa6325-171f-4793-9a2d-6e195e952e8f"
      },
      "execution_count": null,
      "outputs": [
        {
          "output_type": "execute_result",
          "data": {
            "text/plain": [
              "771"
            ]
          },
          "metadata": {},
          "execution_count": 48
        }
      ]
    },
    {
      "cell_type": "markdown",
      "metadata": {
        "id": "QY5ao8e09jrK"
      },
      "source": [
        "## Formatting with f-strings\n",
        "\n",
        "Strings can be concatenated with `+`. Sometimes, you need to [_interpolate_](https://en.wikipedia.org/wiki/String_interpolation) values into strings. \n",
        "\n",
        "Say you work for a logistics company and have a script that calculates the number of trucks that should be made ready for the next day. You want this number to be included in the sentence of an email: `\"For tomorrow, we will need x trucks.\"` But replacing x with the number of trucks, which will vary each day.\n",
        "\n",
        "This task is known as formatting strings. It can be confusing to learn this by just browsing the internet because there are many ways to format strings in Python: the old one (using `%`), the new one (using `{}`and `format()`) and the newest one (using `f-strings`).\n",
        "\n",
        "We will only show you how to use f-strings, but be ready to stumble into the other ones at any time!"
      ]
    },
    {
      "cell_type": "code",
      "execution_count": null,
      "metadata": {
        "id": "uUtDC4nG9jrK",
        "outputId": "25cd046c-9b58-4572-c009-b9a27ee6f61d",
        "colab": {
          "base_uri": "https://localhost:8080/"
        }
      },
      "outputs": [
        {
          "output_type": "stream",
          "name": "stdout",
          "text": [
            "For tomorrow, we will need 73 trucks.\n"
          ]
        }
      ],
      "source": [
        "n_trucks = 73\n",
        "\n",
        "email = f\"For tomorrow, we will need {n_trucks} trucks.\"\n",
        "\n",
        "print(email)"
      ]
    },
    {
      "cell_type": "markdown",
      "metadata": {
        "id": "wu4jlS659jrK"
      },
      "source": [
        "The curly brackets support expressions like these:"
      ]
    },
    {
      "cell_type": "code",
      "execution_count": null,
      "metadata": {
        "id": "SoWNRe6P9jrK",
        "outputId": "cbef3263-a485-4350-c6c7-65d9be170657",
        "colab": {
          "base_uri": "https://localhost:8080/"
        }
      },
      "outputs": [
        {
          "output_type": "stream",
          "name": "stdout",
          "text": [
            "For tomorrow, we will need 83 trucks in the Main Garage.\n"
          ]
        }
      ],
      "source": [
        "place = \"main garage\"\n",
        "\n",
        "email = f\"For tomorrow, we will need {n_trucks+10} trucks in the {place.title()}.\"\n",
        "\n",
        "print(email)"
      ]
    },
    {
      "cell_type": "markdown",
      "metadata": {
        "id": "qqMvu4G19jrL"
      },
      "source": [
        "###### **Exercise 15:**\n",
        "convert the `data_science` string from the previous exercise into an f-string, replacing the name \"Jim Gray\" with the variable `jim`:"
      ]
    },
    {
      "cell_type": "code",
      "execution_count": null,
      "metadata": {
        "id": "leloOVdx9jrL"
      },
      "outputs": [],
      "source": [
        "jim = \"James Nicholas Gray\""
      ]
    },
    {
      "cell_type": "code",
      "execution_count": null,
      "metadata": {
        "id": "jbveObbY9jrL",
        "colab": {
          "base_uri": "https://localhost:8080/",
          "height": 140
        },
        "outputId": "2461c0f5-2212-427e-ac6a-560c61913400"
      },
      "outputs": [
        {
          "output_type": "execute_result",
          "data": {
            "text/plain": [
              "'Data science is an interdisciplinary field that uses scientific methods, processes, algorithms and systems to extract knowledge and insights from noisy, structured and unstructured data, and apply knowledge and actionable insights from data across a broad range of application domains.\\n\\nData science is related to data mining, machine learning and big data. Data science is a \"concept to unify statistics, data analysis, informatics, and their related methods\" in order to \"understand and analyze actual phenomena\" with data. It uses techniques and theories drawn from many fields within the context of mathematics, statistics, computer science, information science, and domain knowledge. However, data science is different from computer science and information science. Turing Award winner James Nicholas Gray imagined data science as a \"fourth paradigm\" of science (empirical, theoretical, computational, and now data-driven) and asserted that \"everything about science is changing because of the impact of information technology\" and the data deluge.'"
            ],
            "application/vnd.google.colaboratory.intrinsic+json": {
              "type": "string"
            }
          },
          "metadata": {},
          "execution_count": 51
        }
      ],
      "source": [
        "# your code here\n",
        "f\"{data_science.replace('Jim Gray', jim)}\""
      ]
    },
    {
      "cell_type": "code",
      "source": [
        "ds_jim = data_science.replace('Jim Gray', jim)"
      ],
      "metadata": {
        "id": "H2ld_CUrLq9A"
      },
      "execution_count": null,
      "outputs": []
    },
    {
      "cell_type": "code",
      "source": [
        "f\"{ds_jim}\""
      ],
      "metadata": {
        "colab": {
          "base_uri": "https://localhost:8080/",
          "height": 140
        },
        "id": "EvE0NlzHL2zz",
        "outputId": "8dbb1138-15eb-4a92-daef-d3db74b1044b"
      },
      "execution_count": null,
      "outputs": [
        {
          "output_type": "execute_result",
          "data": {
            "text/plain": [
              "'Data science is an interdisciplinary field that uses scientific methods, processes, algorithms and systems to extract knowledge and insights from noisy, structured and unstructured data, and apply knowledge and actionable insights from data across a broad range of application domains.\\n\\nData science is related to data mining, machine learning and big data. Data science is a \"concept to unify statistics, data analysis, informatics, and their related methods\" in order to \"understand and analyze actual phenomena\" with data. It uses techniques and theories drawn from many fields within the context of mathematics, statistics, computer science, information science, and domain knowledge. However, data science is different from computer science and information science. Turing Award winner jim imagined data science as a \"fourth paradigm\" of science (empirical, theoretical, computational, and now data-driven) and asserted that \"everything about science is changing because of the impact of information technology\" and the data deluge.'"
            ],
            "application/vnd.google.colaboratory.intrinsic+json": {
              "type": "string"
            }
          },
          "metadata": {},
          "execution_count": 55
        }
      ]
    },
    {
      "cell_type": "code",
      "source": [
        "data_science = f'''\n",
        "Data science is an interdisciplinary field that uses scientific methods, processes, algorithms and systems \n",
        "to extract .... Turing Award winner {jim} imagined data science as a \"fourth paradigm\" \n",
        "of science (empirical, theoretical, computational, and now data-driven) and \n",
        "asserted that \"everything about science is changing because of the impact of information technology\" \n",
        "and the data deluge.\n",
        "'''\n",
        "print(data_science)"
      ],
      "metadata": {
        "colab": {
          "base_uri": "https://localhost:8080/"
        },
        "id": "j_gHmNBuL56L",
        "outputId": "99455c4e-67fb-4aa2-9b05-8fe19dc5d1b3"
      },
      "execution_count": null,
      "outputs": [
        {
          "output_type": "stream",
          "name": "stdout",
          "text": [
            "\n",
            "Data science is an interdisciplinary field that uses scientific methods, processes, algorithms and systems \n",
            "to extract .... Turing Award winner James Nicholas Gray imagined data science as a \"fourth paradigm\" \n",
            "of science (empirical, theoretical, computational, and now data-driven) and \n",
            "asserted that \"everything about science is changing because of the impact of information technology\" \n",
            "and the data deluge.\n",
            "\n"
          ]
        }
      ]
    },
    {
      "cell_type": "code",
      "source": [
        "(\n",
        "    # lower case all for ...\n",
        "    data_science.lower()\n",
        "    # now we ...\n",
        "    .title()\n",
        "    # half the time ...\n",
        "    .replace()\n",
        ")"
      ],
      "metadata": {
        "id": "ZUltu_3sM3Op"
      },
      "execution_count": null,
      "outputs": []
    }
  ],
  "metadata": {
    "kernelspec": {
      "display_name": "Python 3",
      "language": "python",
      "name": "python3"
    },
    "language_info": {
      "codemirror_mode": {
        "name": "ipython",
        "version": 3
      },
      "file_extension": ".py",
      "mimetype": "text/x-python",
      "name": "python",
      "nbconvert_exporter": "python",
      "pygments_lexer": "ipython3",
      "version": "3.8.8"
    },
    "colab": {
      "provenance": []
    }
  },
  "nbformat": 4,
  "nbformat_minor": 0
}